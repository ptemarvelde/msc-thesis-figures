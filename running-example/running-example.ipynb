{
 "cells": [
  {
   "cell_type": "code",
   "execution_count": 10,
   "metadata": {},
   "outputs": [],
   "source": [
    "import pandas as pd\n",
    "import numpy as np\n",
    "import sys\n",
    "sys.path.append('/home/pepijn/Documents/uni/y5/thesis/amalur/amalur-experiments/amalur-factorization')\n",
    "\n",
    "from datasets.tpc_ai.load import load_usecase_01\n"
   ]
  },
  {
   "cell_type": "code",
   "execution_count": 27,
   "metadata": {},
   "outputs": [
    {
     "name": "stderr",
     "output_type": "stream",
     "text": [
      "\u001b[32m2024-03-06 17:05:04.343\u001b[0m | \u001b[1mINFO    \u001b[0m | \u001b[36mdatasets.tpc_ai.load\u001b[0m:\u001b[36mload_usecase_01\u001b[0m:\u001b[36m29\u001b[0m - \u001b[1mLoading data for usecase01\u001b[0m\n",
      "\u001b[32m2024-03-06 17:05:04.345\u001b[0m | \u001b[34m\u001b[1mDEBUG   \u001b[0m | \u001b[36mdatasets.tpc_ai.load\u001b[0m:\u001b[36mload_usecase_01\u001b[0m:\u001b[36m34\u001b[0m - \u001b[34m\u001b[1mStart reading order_path='./running-example/data/order.csv'\u001b[0m\n",
      "\u001b[32m2024-03-06 17:05:04.366\u001b[0m | \u001b[34m\u001b[1mDEBUG   \u001b[0m | \u001b[36mdatasets.tpc_ai.load\u001b[0m:\u001b[36mload_usecase_01\u001b[0m:\u001b[36m36\u001b[0m - \u001b[34m\u001b[1mStart reading lineitem_path='./running-example/data/lineitem.csv'\u001b[0m\n",
      "\u001b[32m2024-03-06 17:05:04.385\u001b[0m | \u001b[34m\u001b[1mDEBUG   \u001b[0m | \u001b[36mdatasets.tpc_ai.load\u001b[0m:\u001b[36mload_usecase_01\u001b[0m:\u001b[36m38\u001b[0m - \u001b[34m\u001b[1mStart reading order_returns_path='./running-example/data/order_returns.csv'\u001b[0m\n",
      "\u001b[32m2024-03-06 17:05:04.397\u001b[0m | \u001b[34m\u001b[1mDEBUG   \u001b[0m | \u001b[36mdatasets.tpc_ai.load\u001b[0m:\u001b[36mload_usecase_01\u001b[0m:\u001b[36m40\u001b[0m - \u001b[34m\u001b[1mFinished reading data\u001b[0m\n",
      "\u001b[32m2024-03-06 17:05:04.406\u001b[0m | \u001b[1mINFO    \u001b[0m | \u001b[36mdatasets.tpc_ai.load\u001b[0m:\u001b[36mload_usecase_01\u001b[0m:\u001b[36m67\u001b[0m - \u001b[1mFinished preprocessing for usecase10, now creating matrices\u001b[0m\n",
      "\u001b[32m2024-03-06 17:05:04.407\u001b[0m | \u001b[1mINFO    \u001b[0m | \u001b[36mdatasets.tpc_ai.load\u001b[0m:\u001b[36mcreate_AmalurMatrix\u001b[0m:\u001b[36m113\u001b[0m - \u001b[1mCreating Mapping and Indicator matrices for source 0 with 3 rows\u001b[0m\n",
      "\u001b[32m2024-03-06 17:05:04.409\u001b[0m | \u001b[1mINFO    \u001b[0m | \u001b[36mdatasets.tpc_ai.load\u001b[0m:\u001b[36mcreate_AmalurMatrix\u001b[0m:\u001b[36m113\u001b[0m - \u001b[1mCreating Mapping and Indicator matrices for source 1 with 4 rows\u001b[0m\n",
      "\u001b[32m2024-03-06 17:05:04.411\u001b[0m | \u001b[1mINFO    \u001b[0m | \u001b[36mdatasets.tpc_ai.load\u001b[0m:\u001b[36mcreate_AmalurMatrix\u001b[0m:\u001b[36m113\u001b[0m - \u001b[1mCreating Mapping and Indicator matrices for source 2 with 1 rows\u001b[0m\n"
     ]
    }
   ],
   "source": [
    "amalur, T = load_usecase_01(\"./running-example/data\")"
   ]
  },
  {
   "cell_type": "code",
   "execution_count": 25,
   "metadata": {},
   "outputs": [
    {
     "name": "stdout",
     "output_type": "stream",
     "text": [
      "[[1. 0. 0.]\n",
      " [0. 1. 0.]\n",
      " [0. 0. 1.]\n",
      " [0. 0. 0.]\n",
      " [0. 0. 0.]\n",
      " [0. 0. 0.]\n",
      " [0. 0. 0.]]\n",
      "[[0. 0. 0.]\n",
      " [0. 0. 0.]\n",
      " [0. 0. 0.]\n",
      " [1. 0. 0.]\n",
      " [0. 1. 0.]\n",
      " [0. 0. 1.]\n",
      " [0. 0. 0.]]\n",
      "[[0.]\n",
      " [0.]\n",
      " [0.]\n",
      " [0.]\n",
      " [0.]\n",
      " [0.]\n",
      " [1.]]\n"
     ]
    },
    {
     "data": {
      "text/plain": [
       "[None, None, None]"
      ]
     },
     "execution_count": 25,
     "metadata": {},
     "output_type": "execute_result"
    }
   ],
   "source": [
    "[print(x.todense()) for x in amalur.M]"
   ]
  },
  {
   "cell_type": "code",
   "execution_count": 28,
   "metadata": {},
   "outputs": [
    {
     "data": {
      "text/html": [
       "<div>\n",
       "<style scoped>\n",
       "    .dataframe tbody tr th:only-of-type {\n",
       "        vertical-align: middle;\n",
       "    }\n",
       "\n",
       "    .dataframe tbody tr th {\n",
       "        vertical-align: top;\n",
       "    }\n",
       "\n",
       "    .dataframe thead th {\n",
       "        text-align: right;\n",
       "    }\n",
       "</style>\n",
       "<table border=\"1\" class=\"dataframe\">\n",
       "  <thead>\n",
       "    <tr style=\"text-align: right;\">\n",
       "      <th></th>\n",
       "      <th>o_order_id</th>\n",
       "      <th>o_customer_sk</th>\n",
       "      <th>invoice_year</th>\n",
       "      <th>quantity</th>\n",
       "      <th>price</th>\n",
       "      <th>row_price</th>\n",
       "      <th>or_return_quantity</th>\n",
       "    </tr>\n",
       "  </thead>\n",
       "  <tbody>\n",
       "    <tr>\n",
       "      <th>0</th>\n",
       "      <td>1</td>\n",
       "      <td>11</td>\n",
       "      <td>2024</td>\n",
       "      <td>2</td>\n",
       "      <td>20</td>\n",
       "      <td>40</td>\n",
       "      <td>0</td>\n",
       "    </tr>\n",
       "    <tr>\n",
       "      <th>1</th>\n",
       "      <td>1</td>\n",
       "      <td>11</td>\n",
       "      <td>2024</td>\n",
       "      <td>1</td>\n",
       "      <td>25</td>\n",
       "      <td>25</td>\n",
       "      <td>0</td>\n",
       "    </tr>\n",
       "    <tr>\n",
       "      <th>2</th>\n",
       "      <td>2</td>\n",
       "      <td>12</td>\n",
       "      <td>2024</td>\n",
       "      <td>3</td>\n",
       "      <td>13</td>\n",
       "      <td>39</td>\n",
       "      <td>0</td>\n",
       "    </tr>\n",
       "    <tr>\n",
       "      <th>3</th>\n",
       "      <td>3</td>\n",
       "      <td>11</td>\n",
       "      <td>2023</td>\n",
       "      <td>1</td>\n",
       "      <td>10</td>\n",
       "      <td>10</td>\n",
       "      <td>1</td>\n",
       "    </tr>\n",
       "  </tbody>\n",
       "</table>\n",
       "</div>"
      ],
      "text/plain": [
       "   o_order_id  o_customer_sk  invoice_year  quantity  price  row_price  \\\n",
       "0           1             11          2024         2     20         40   \n",
       "1           1             11          2024         1     25         25   \n",
       "2           2             12          2024         3     13         39   \n",
       "3           3             11          2023         1     10         10   \n",
       "\n",
       "   or_return_quantity  \n",
       "0                   0  \n",
       "1                   0  \n",
       "2                   0  \n",
       "3                   1  "
      ]
     },
     "metadata": {},
     "output_type": "display_data"
    },
    {
     "data": {
      "text/html": [
       "<div>\n",
       "<style scoped>\n",
       "    .dataframe tbody tr th:only-of-type {\n",
       "        vertical-align: middle;\n",
       "    }\n",
       "\n",
       "    .dataframe tbody tr th {\n",
       "        vertical-align: top;\n",
       "    }\n",
       "\n",
       "    .dataframe thead th {\n",
       "        text-align: right;\n",
       "    }\n",
       "</style>\n",
       "<table border=\"1\" class=\"dataframe\">\n",
       "  <thead>\n",
       "    <tr style=\"text-align: right;\">\n",
       "      <th></th>\n",
       "      <th>0</th>\n",
       "      <th>1</th>\n",
       "      <th>2</th>\n",
       "      <th>3</th>\n",
       "      <th>4</th>\n",
       "      <th>5</th>\n",
       "      <th>6</th>\n",
       "    </tr>\n",
       "  </thead>\n",
       "  <tbody>\n",
       "    <tr>\n",
       "      <th>0</th>\n",
       "      <td>1.0</td>\n",
       "      <td>11.0</td>\n",
       "      <td>2024.0</td>\n",
       "      <td>2.0</td>\n",
       "      <td>20.0</td>\n",
       "      <td>40.0</td>\n",
       "      <td>0.0</td>\n",
       "    </tr>\n",
       "    <tr>\n",
       "      <th>1</th>\n",
       "      <td>1.0</td>\n",
       "      <td>11.0</td>\n",
       "      <td>2024.0</td>\n",
       "      <td>1.0</td>\n",
       "      <td>25.0</td>\n",
       "      <td>25.0</td>\n",
       "      <td>0.0</td>\n",
       "    </tr>\n",
       "    <tr>\n",
       "      <th>2</th>\n",
       "      <td>2.0</td>\n",
       "      <td>12.0</td>\n",
       "      <td>2024.0</td>\n",
       "      <td>3.0</td>\n",
       "      <td>13.0</td>\n",
       "      <td>39.0</td>\n",
       "      <td>0.0</td>\n",
       "    </tr>\n",
       "    <tr>\n",
       "      <th>3</th>\n",
       "      <td>3.0</td>\n",
       "      <td>11.0</td>\n",
       "      <td>2023.0</td>\n",
       "      <td>1.0</td>\n",
       "      <td>10.0</td>\n",
       "      <td>10.0</td>\n",
       "      <td>1.0</td>\n",
       "    </tr>\n",
       "  </tbody>\n",
       "</table>\n",
       "</div>"
      ],
      "text/plain": [
       "     0     1       2    3     4     5    6\n",
       "0  1.0  11.0  2024.0  2.0  20.0  40.0  0.0\n",
       "1  1.0  11.0  2024.0  1.0  25.0  25.0  0.0\n",
       "2  2.0  12.0  2024.0  3.0  13.0  39.0  0.0\n",
       "3  3.0  11.0  2023.0  1.0  10.0  10.0  1.0"
      ]
     },
     "metadata": {},
     "output_type": "display_data"
    },
    {
     "name": "stdout",
     "output_type": "stream",
     "text": [
      "difference:  0.0\n"
     ]
    }
   ],
   "source": [
    "T['or_return_quantity'] = T['or_return_quantity'].astype(int)\n",
    "display(T)\n",
    "display(pd.DataFrame(amalur.materialize().todense()))\n",
    "print(\"difference: \" , np.sum(np.abs((T.values - amalur.materialize().todense()))))"
   ]
  },
  {
   "cell_type": "code",
   "execution_count": 29,
   "metadata": {},
   "outputs": [
    {
     "data": {
      "text/html": [
       "<div>\n",
       "<style scoped>\n",
       "    .dataframe tbody tr th:only-of-type {\n",
       "        vertical-align: middle;\n",
       "    }\n",
       "\n",
       "    .dataframe tbody tr th {\n",
       "        vertical-align: top;\n",
       "    }\n",
       "\n",
       "    .dataframe thead th {\n",
       "        text-align: right;\n",
       "    }\n",
       "</style>\n",
       "<table border=\"1\" class=\"dataframe\">\n",
       "  <thead>\n",
       "    <tr style=\"text-align: right;\">\n",
       "      <th></th>\n",
       "      <th>o_order_id</th>\n",
       "      <th>o_customer_sk</th>\n",
       "      <th>invoice_year</th>\n",
       "      <th>quantity</th>\n",
       "      <th>price</th>\n",
       "      <th>row_price</th>\n",
       "      <th>or_return_quantity</th>\n",
       "    </tr>\n",
       "  </thead>\n",
       "  <tbody>\n",
       "    <tr>\n",
       "      <th>0</th>\n",
       "      <td>1</td>\n",
       "      <td>11</td>\n",
       "      <td>2024</td>\n",
       "      <td>2</td>\n",
       "      <td>20</td>\n",
       "      <td>40</td>\n",
       "      <td>0</td>\n",
       "    </tr>\n",
       "    <tr>\n",
       "      <th>1</th>\n",
       "      <td>1</td>\n",
       "      <td>11</td>\n",
       "      <td>2024</td>\n",
       "      <td>1</td>\n",
       "      <td>25</td>\n",
       "      <td>25</td>\n",
       "      <td>0</td>\n",
       "    </tr>\n",
       "    <tr>\n",
       "      <th>2</th>\n",
       "      <td>2</td>\n",
       "      <td>12</td>\n",
       "      <td>2024</td>\n",
       "      <td>3</td>\n",
       "      <td>13</td>\n",
       "      <td>39</td>\n",
       "      <td>0</td>\n",
       "    </tr>\n",
       "    <tr>\n",
       "      <th>3</th>\n",
       "      <td>3</td>\n",
       "      <td>11</td>\n",
       "      <td>2023</td>\n",
       "      <td>1</td>\n",
       "      <td>10</td>\n",
       "      <td>10</td>\n",
       "      <td>1</td>\n",
       "    </tr>\n",
       "  </tbody>\n",
       "</table>\n",
       "</div>"
      ],
      "text/plain": [
       "   o_order_id  o_customer_sk  invoice_year  quantity  price  row_price  \\\n",
       "0           1             11          2024         2     20         40   \n",
       "1           1             11          2024         1     25         25   \n",
       "2           2             12          2024         3     13         39   \n",
       "3           3             11          2023         1     10         10   \n",
       "\n",
       "   or_return_quantity  \n",
       "0                   0  \n",
       "1                   0  \n",
       "2                   0  \n",
       "3                   1  "
      ]
     },
     "metadata": {},
     "output_type": "display_data"
    },
    {
     "data": {
      "text/html": [
       "<div>\n",
       "<style scoped>\n",
       "    .dataframe tbody tr th:only-of-type {\n",
       "        vertical-align: middle;\n",
       "    }\n",
       "\n",
       "    .dataframe tbody tr th {\n",
       "        vertical-align: top;\n",
       "    }\n",
       "\n",
       "    .dataframe thead th {\n",
       "        text-align: right;\n",
       "    }\n",
       "</style>\n",
       "<table border=\"1\" class=\"dataframe\">\n",
       "  <thead>\n",
       "    <tr style=\"text-align: right;\">\n",
       "      <th></th>\n",
       "      <th>0</th>\n",
       "      <th>1</th>\n",
       "      <th>2</th>\n",
       "      <th>3</th>\n",
       "      <th>4</th>\n",
       "      <th>5</th>\n",
       "      <th>6</th>\n",
       "    </tr>\n",
       "  </thead>\n",
       "  <tbody>\n",
       "    <tr>\n",
       "      <th>0</th>\n",
       "      <td>1.0</td>\n",
       "      <td>11.0</td>\n",
       "      <td>2024.0</td>\n",
       "      <td>2.0</td>\n",
       "      <td>20.0</td>\n",
       "      <td>40.0</td>\n",
       "      <td>0.0</td>\n",
       "    </tr>\n",
       "    <tr>\n",
       "      <th>1</th>\n",
       "      <td>1.0</td>\n",
       "      <td>11.0</td>\n",
       "      <td>2024.0</td>\n",
       "      <td>1.0</td>\n",
       "      <td>25.0</td>\n",
       "      <td>25.0</td>\n",
       "      <td>0.0</td>\n",
       "    </tr>\n",
       "    <tr>\n",
       "      <th>2</th>\n",
       "      <td>2.0</td>\n",
       "      <td>12.0</td>\n",
       "      <td>2024.0</td>\n",
       "      <td>3.0</td>\n",
       "      <td>13.0</td>\n",
       "      <td>39.0</td>\n",
       "      <td>0.0</td>\n",
       "    </tr>\n",
       "    <tr>\n",
       "      <th>3</th>\n",
       "      <td>3.0</td>\n",
       "      <td>11.0</td>\n",
       "      <td>2023.0</td>\n",
       "      <td>1.0</td>\n",
       "      <td>10.0</td>\n",
       "      <td>10.0</td>\n",
       "      <td>1.0</td>\n",
       "    </tr>\n",
       "  </tbody>\n",
       "</table>\n",
       "</div>"
      ],
      "text/plain": [
       "     0     1       2    3     4     5    6\n",
       "0  1.0  11.0  2024.0  2.0  20.0  40.0  0.0\n",
       "1  1.0  11.0  2024.0  1.0  25.0  25.0  0.0\n",
       "2  2.0  12.0  2024.0  3.0  13.0  39.0  0.0\n",
       "3  3.0  11.0  2023.0  1.0  10.0  10.0  1.0"
      ]
     },
     "metadata": {},
     "output_type": "display_data"
    },
    {
     "name": "stdout",
     "output_type": "stream",
     "text": [
      "difference:  0.0\n"
     ]
    }
   ],
   "source": [
    "M = amalur.M\n",
    "amalur.M = None\n",
    "T['or_return_quantity'] = T['or_return_quantity'].astype(int)\n",
    "display(T)\n",
    "display(pd.DataFrame(amalur.materialize().todense()))\n",
    "print(\"difference: \" , np.sum(np.abs((T.values - amalur.materialize().todense()))))\n",
    "amalur.M = M"
   ]
  },
  {
   "cell_type": "code",
   "execution_count": 15,
   "metadata": {},
   "outputs": [],
   "source": [
    "def bmatrix(a, label=None):\n",
    "    \"\"\"Returns a LaTeX bmatrix\n",
    "\n",
    "    :a: numpy array\n",
    "    :returns: LaTeX bmatrix as a string\n",
    "    \"\"\"\n",
    "    if len(a.shape) > 2:\n",
    "        raise ValueError('bmatrix can at most display two dimensions')\n",
    "    lines = str(a).replace('[', '').replace(']', '').splitlines()\n",
    "    if label in [\"T\", \"S\"]:\n",
    "        rv = [r'\\begin{bNiceMatrix}[first-row,last-col]']\n",
    "        rv += ['&'.join(['C' for x in range(a.shape[1])]) + r' \\\\']        \n",
    "    elif label in [\"I\", \"M\"]:\n",
    "        rv = [r'\\begin{bNiceMatrix}[last-col]']\n",
    "    else:\n",
    "        rv = [r'\\begin{bNiceMatrix}']\n",
    "    rv += ['  ' + ' & '.join(l.split()) + r'\\\\' for l in lines]\n",
    "        \n",
    "        \n",
    "    rv +=  [r'\\end{bNiceMatrix}']\n",
    "    return '\\n'.join(rv)\n"
   ]
  },
  {
   "cell_type": "code",
   "execution_count": 16,
   "metadata": {},
   "outputs": [
    {
     "name": "stdout",
     "output_type": "stream",
     "text": [
      "\\begin{equation}T = \\begin{bNiceMatrix}[first-row,last-col]\n",
      "C&C&C&C&C&C&C \\\\\n",
      "  1 & 11 & 2024 & 2 & 20 & 40 & 0\\\\\n",
      "  1 & 11 & 2024 & 1 & 25 & 25 & 0\\\\\n",
      "  2 & 12 & 2024 & 3 & 13 & 39 & 0\\\\\n",
      "  3 & 11 & 2023 & 1 & 10 & 10 & 1\\\\\n",
      "\\end{bNiceMatrix}\\end{equation}\n",
      "\\begin{equation}S_0 = \\begin{bNiceMatrix}[first-row,last-col]\n",
      "C&C&C \\\\\n",
      "  1 & 11 & 2024\\\\\n",
      "  2 & 12 & 2024\\\\\n",
      "  3 & 11 & 2023\\\\\n",
      "\\end{bNiceMatrix}\\end{equation}\n",
      "\\begin{equation}S_1 = \\begin{bNiceMatrix}[first-row,last-col]\n",
      "C&C&C \\\\\n",
      "  2 & 20 & 40\\\\\n",
      "  1 & 25 & 25\\\\\n",
      "  3 & 13 & 39\\\\\n",
      "  1 & 10 & 10\\\\\n",
      "\\end{bNiceMatrix}\\end{equation}\n",
      "\\begin{equation}S_2 = \\begin{bNiceMatrix}[first-row,last-col]\n",
      "C \\\\\n",
      "  1\\\\\n",
      "\\end{bNiceMatrix}\\end{equation}\n",
      "\\begin{equation}I_0 = \\begin{bNiceMatrix}[last-col]\n",
      "  1 & 0 & 0\\\\\n",
      "  1 & 0 & 0\\\\\n",
      "  0 & 1 & 0\\\\\n",
      "  0 & 0 & 1\\\\\n",
      "\\end{bNiceMatrix}\\end{equation}\n",
      "\\begin{equation}I_1 = \\begin{bNiceMatrix}[last-col]\n",
      "  1 & 0 & 0 & 0\\\\\n",
      "  0 & 1 & 0 & 0\\\\\n",
      "  0 & 0 & 1 & 0\\\\\n",
      "  0 & 0 & 0 & 1\\\\\n",
      "\\end{bNiceMatrix}\\end{equation}\n",
      "\\begin{equation}I_2 = \\begin{bNiceMatrix}[last-col]\n",
      "  0\\\\\n",
      "  0\\\\\n",
      "  0\\\\\n",
      "  1\\\\\n",
      "\\end{bNiceMatrix}\\end{equation}\n",
      "\\begin{equation}M_0 = \\begin{bNiceMatrix}[last-col]\n",
      "  1 & 0 & 0\\\\\n",
      "  0 & 1 & 0\\\\\n",
      "  0 & 0 & 1\\\\\n",
      "  0 & 0 & 0\\\\\n",
      "  0 & 0 & 0\\\\\n",
      "  0 & 0 & 0\\\\\n",
      "  0 & 0 & 0\\\\\n",
      "\\end{bNiceMatrix}\\end{equation}\n",
      "\\begin{equation}M_1 = \\begin{bNiceMatrix}[last-col]\n",
      "  0 & 0 & 0\\\\\n",
      "  0 & 0 & 0\\\\\n",
      "  0 & 0 & 0\\\\\n",
      "  1 & 0 & 0\\\\\n",
      "  0 & 1 & 0\\\\\n",
      "  0 & 0 & 1\\\\\n",
      "  0 & 0 & 0\\\\\n",
      "\\end{bNiceMatrix}\\end{equation}\n",
      "\\begin{equation}M_2 = \\begin{bNiceMatrix}[last-col]\n",
      "  0\\\\\n",
      "  0\\\\\n",
      "  0\\\\\n",
      "  0\\\\\n",
      "  0\\\\\n",
      "  0\\\\\n",
      "  1\\\\\n",
      "\\end{bNiceMatrix}\\end{equation}\n"
     ]
    }
   ],
   "source": [
    "def print_as_latex(matrices, label=None):\n",
    "        for i, x in enumerate(matrices):\n",
    "            printlabel = label\n",
    "            x = x.astype(int)\n",
    "            if label != \"T\":\n",
    "                try:\n",
    "                    x = x.todense()\n",
    "                except:\n",
    "                    pass\n",
    "                printlabel = f\"{label}_{i}\"\n",
    "            print(\"\\\\begin{equation}\" + f\"{printlabel} = {bmatrix(x, label)}\" + \"\\\\end{equation}\")\n",
    "            \n",
    "def print_matrices(amalur):           \n",
    "    print_as_latex([T.values], \"T\")\n",
    "    print_as_latex(amalur.S, \"S\")\n",
    "    print_as_latex(amalur.I, \"I\")\n",
    "    print_as_latex(amalur.M, \"M\")\n",
    "print_matrices(amalur)"
   ]
  },
  {
   "cell_type": "code",
   "execution_count": 17,
   "metadata": {},
   "outputs": [
    {
     "name": "stdout",
     "output_type": "stream",
     "text": [
      "\\begin{equation}T = \\begin{bNiceMatrix}[first-row,last-col]\n",
      "C&C&C&C&C&C&C \\\\\n",
      "  1 & 11 & 2024 & 0 & 0 & 0 & 0\\\\\n",
      "  1 & 11 & 2024 & 0 & 0 & 0 & 0\\\\\n",
      "  2 & 12 & 2024 & 0 & 0 & 0 & 0\\\\\n",
      "  3 & 11 & 2023 & 0 & 0 & 0 & 0\\\\\n",
      "\\end{bNiceMatrix}\\end{equation}\n",
      "\\begin{equation}T = \\begin{bNiceMatrix}[first-row,last-col]\n",
      "C&C&C&C&C&C&C \\\\\n",
      "  0 & 0 & 0 & 2 & 20 & 40 & 0\\\\\n",
      "  0 & 0 & 0 & 1 & 25 & 25 & 0\\\\\n",
      "  0 & 0 & 0 & 3 & 13 & 39 & 0\\\\\n",
      "  0 & 0 & 0 & 1 & 10 & 10 & 0\\\\\n",
      "\\end{bNiceMatrix}\\end{equation}\n",
      "\\begin{equation}T = \\begin{bNiceMatrix}[first-row,last-col]\n",
      "C&C&C&C&C&C&C \\\\\n",
      "  0 & 0 & 0 & 0 & 0 & 0 & 0\\\\\n",
      "  0 & 0 & 0 & 0 & 0 & 0 & 0\\\\\n",
      "  0 & 0 & 0 & 0 & 0 & 0 & 0\\\\\n",
      "  0 & 0 & 0 & 0 & 0 & 0 & 1\\\\\n",
      "\\end{bNiceMatrix}\\end{equation}\n"
     ]
    }
   ],
   "source": [
    "Ts = []\n",
    "for i in range(3):\n",
    "    Ts.append(amalur.I[i] * amalur.S[i] * amalur.M[i].T.todense())\n",
    "    print_as_latex([Ts[i]], 'T')"
   ]
  },
  {
   "cell_type": "code",
   "execution_count": 18,
   "metadata": {},
   "outputs": [
    {
     "name": "stdout",
     "output_type": "stream",
     "text": [
      "\\begin{equation}T = \\begin{bNiceMatrix}[first-row,last-col]\n",
      "C&C&C \\\\\n",
      "  1 & 11 & 2024\\\\\n",
      "  1 & 11 & 2024\\\\\n",
      "  2 & 12 & 2024\\\\\n",
      "  3 & 11 & 2023\\\\\n",
      "\\end{bNiceMatrix}\\end{equation}\n"
     ]
    }
   ],
   "source": [
    "print_as_latex([(amalur.I[0] * amalur.S[0]).todense()], 'T')"
   ]
  },
  {
   "cell_type": "code",
   "execution_count": 19,
   "metadata": {},
   "outputs": [
    {
     "name": "stdout",
     "output_type": "stream",
     "text": [
      "\\begin{equation}M_0 = \\begin{bNiceMatrix}[last-col]\n",
      "  1 & 0 & 0 & 0 & 0 & 0 & 0\\\\\n",
      "  0 & 1 & 0 & 0 & 0 & 0 & 0\\\\\n",
      "  0 & 0 & 1 & 0 & 0 & 0 & 0\\\\\n",
      "\\end{bNiceMatrix}\\end{equation}\n"
     ]
    }
   ],
   "source": [
    "print_as_latex([amalur.M[0].T], 'M')"
   ]
  },
  {
   "cell_type": "markdown",
   "metadata": {},
   "source": [
    "## Running Example: Right Matrix Multiplication"
   ]
  },
  {
   "cell_type": "code",
   "execution_count": 20,
   "metadata": {},
   "outputs": [
    {
     "name": "stdout",
     "output_type": "stream",
     "text": [
      "\\begin{bNiceMatrix}\n",
      "  1 & 11 & 2024 & 2 & 20 & 40 & 0\\\\\n",
      "  1 & 11 & 2024 & 1 & 25 & 25 & 0\\\\\n",
      "  2 & 12 & 2024 & 3 & 13 & 39 & 0\\\\\n",
      "  3 & 11 & 2023 & 1 & 10 & 10 & 1\\\\\n",
      "\\end{bNiceMatrix}\n"
     ]
    }
   ],
   "source": [
    "print(bmatrix(T.values))"
   ]
  },
  {
   "cell_type": "code",
   "execution_count": 21,
   "metadata": {},
   "outputs": [
    {
     "name": "stdout",
     "output_type": "stream",
     "text": [
      "\\begin{bNiceMatrix}\n",
      "  1 & 1 & 2 & 3\\\\\n",
      "\\end{bNiceMatrix}\n"
     ]
    }
   ],
   "source": [
    "X = np.array([1,1,2,3])\n",
    "print(bmatrix(X))"
   ]
  },
  {
   "cell_type": "code",
   "execution_count": 22,
   "metadata": {},
   "outputs": [
    {
     "name": "stdout",
     "output_type": "stream",
     "text": [
      "\\begin{bNiceMatrix}\n",
      "  15 & 79 & 14165 & 12 & 101 & 173 & 3\\\\\n",
      "\\end{bNiceMatrix}\n"
     ]
    }
   ],
   "source": [
    "print(bmatrix(X.dot(T.values)))"
   ]
  },
  {
   "cell_type": "code",
   "execution_count": 23,
   "metadata": {},
   "outputs": [
    {
     "name": "stdout",
     "output_type": "stream",
     "text": [
      "\\begin{bNiceMatrix}\n",
      "  15. & 79. & 14165. & 0. & 0. & 0. & 0.\\\\\n",
      "\\end{bNiceMatrix}\n",
      "\\begin{bNiceMatrix}\n",
      "  0. & 0. & 0. & 12. & 101. & 173. & 0.\\\\\n",
      "\\end{bNiceMatrix}\n",
      "\\begin{bNiceMatrix}\n",
      "  0. & 0. & 0. & 0. & 0. & 0. & 3.\\\\\n",
      "\\end{bNiceMatrix}\n"
     ]
    }
   ],
   "source": [
    "for T in Ts:\n",
    "    print(bmatrix(X.dot(T)))"
   ]
  },
  {
   "cell_type": "code",
   "execution_count": 24,
   "metadata": {},
   "outputs": [
    {
     "data": {
      "text/plain": [
       "matrix([[1.000e+00, 1.100e+01, 2.024e+03, 2.000e+00, 2.000e+01,\n",
       "         4.000e+01, 0.000e+00],\n",
       "        [1.000e+00, 1.100e+01, 2.024e+03, 1.000e+00, 2.500e+01,\n",
       "         2.500e+01, 0.000e+00],\n",
       "        [2.000e+00, 1.200e+01, 2.024e+03, 3.000e+00, 1.300e+01,\n",
       "         3.900e+01, 0.000e+00],\n",
       "        [3.000e+00, 1.100e+01, 2.023e+03, 1.000e+00, 1.000e+01,\n",
       "         1.000e+01, 1.000e+00]])"
      ]
     },
     "execution_count": 24,
     "metadata": {},
     "output_type": "execute_result"
    }
   ],
   "source": [
    "sum(Ts)"
   ]
  },
  {
   "cell_type": "code",
   "execution_count": 31,
   "metadata": {},
   "outputs": [],
   "source": [
    "T1_1 = [3.3539377999841236, 2.3677769229980186, 2.3690663159941323, 2.3669571739737876, 2.3653204779839143, 2.365425195021089, 2.366589181998279, 2.3656839309842326, 2.365362938027829, 2.3662557350471616, 2.366733109985944, 2.3671920530032367, 2.3675756040029228, 2.364933249016758, 2.3696935109910555, 2.377469528000802, 2.3793917289585806, 2.38240953697823, 2.37196696101455, 2.372894953994546, 2.373194236017298, 2.3794495859765448, 2.3763311179936863, 2.367016470001545, 2.3693624769803137, 2.3684550130274147, 2.367784602975007, 2.3658741639810614, 2.365850650006905, 2.3665440419572406][1:]\n",
    "T1_10 = \t[0.6087040799902752, 0.6094074409920722, 0.6110281349974684, 0.6108144139871001, 0.6091490460094064, 0.6090436379890889, 0.609696043014992, 0.6098310769884847, 0.609147431969177, 0.6112454640096985, 0.6098334519774653, 0.6097162910155021, 0.6090761389932595, 0.6091801740112714, 0.6087527909548953, 0.6124504170147702, 0.6104524050024338, 0.609528188011609, 0.6102110909996554, 0.6097241360112093, 0.6096956130350009, 0.6090216670418158, 0.6085567830014043, 0.6096538139972836, 0.6090826609870419, 0.6099969189963304, 0.609437225968577, 0.6093587400391698, 0.6089567450108007, 0.6089944649720564][1:]\n",
    "T2_1  = [4.631265560979955, 2.4130968609824777, 2.4034220469766296, 2.4041214999742806, 2.4031691419659182, 2.407443630043417, 2.4042516850167885, 2.4034436770016328, 2.403395786008332, 2.401948597980663, 2.402929238975048, 2.4021488429862075, 2.4044325840077363, 2.4031190759851597, 2.4010991110117175, 2.4026667950092815, 2.4017759619746357, 2.404425768996589, 2.403508185991086, 2.4014768300112337, 2.4028390589519404, 2.403411274019163, 2.403382819960825, 2.404596399050206, 2.404018372995779, 2.404439795005601, 2.4017180720111355, 2.4003161580185406, 2.401768716983497, 2.400573171034921][1:]\n",
    "T2_10 =[0.6332368919975124, 0.6327068349928595, 0.632202449021861, 0.6319779569748789, 0.6327363009913824, 0.6347985949832946, 0.6329234320437536, 0.632643637014553, 0.6321550080319867, 0.6316507619922049, 0.6313220339943655, 0.6321566320257261, 0.6330338499974459, 0.6321660400135443, 0.6323929860373028, 0.6326026000315323, 0.6322179060080089, 0.6317013660445809, 0.6343749689985998, 0.6326413220376708, 0.632600235985592, 0.6326831909827888, 0.6324163689860143, 0.6332796220085584, 0.6334260159637779, 0.6324384419713169, 0.633257350011263, 0.631094395997934, 0.6312829399830662, 0.6368614989914931][1:]"
   ]
  },
  {
   "cell_type": "code",
   "execution_count": 35,
   "metadata": {},
   "outputs": [
    {
     "data": {
      "text/plain": [
       "<matplotlib.legend.Legend at 0x7f8ce04db1f0>"
      ]
     },
     "execution_count": 35,
     "metadata": {},
     "output_type": "execute_result"
    },
    {
     "data": {
      "image/png": "[encoded data removed]",
      "text/plain": [
       "<Figure size 640x480 with 1 Axes>"
      ]
     },
     "metadata": {},
     "output_type": "display_data"
    }
   ],
   "source": [
    "import seaborn as sns\n",
    "import matplotlib.pyplot as plt\n",
    "fig, ax = plt.subplots()\n",
    "# sns.kdeplot(T1_1,ax=ax, label='T1_1')\n",
    "sns.kdeplot(T1_10,ax=ax, label='T1_10')\n",
    "# sns.kdeplot(T2_1,ax=ax, label='T2_1')\n",
    "sns.kdeplot(T2_10,ax=ax, label='T2_10')\n",
    "ax.legend()\n"
   ]
  }
 ],
 "metadata": {
  "kernelspec": {
   "display_name": ".venv",
   "language": "python",
   "name": "python3"
  },
  "language_info": {
   "codemirror_mode": {
    "name": "ipython",
    "version": 3
   },
   "file_extension": ".py",
   "mimetype": "text/x-python",
   "name": "python",
   "nbconvert_exporter": "python",
   "pygments_lexer": "ipython3",
   "version": "3.10.12"
  }
 },
 "nbformat": 4,
 "nbformat_minor": 2
}
