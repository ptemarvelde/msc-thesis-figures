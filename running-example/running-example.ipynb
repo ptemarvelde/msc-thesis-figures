{
 "cells": [
  {
   "cell_type": "code",
   "execution_count": 2,
   "metadata": {},
   "outputs": [
    {
     "name": "stderr",
     "output_type": "stream",
     "text": [
      "/tmp/ipykernel_5967/2532907207.py:1: DeprecationWarning: \n",
      "Pyarrow will become a required dependency of pandas in the next major release of pandas (pandas 3.0),\n",
      "(to allow more performant data types, such as the Arrow string type, and better interoperability with other libraries)\n",
      "but was not found to be installed on your system.\n",
      "If this would cause problems for you,\n",
      "please provide us feedback at https://github.com/pandas-dev/pandas/issues/54466\n",
      "        \n",
      "  import pandas as pd\n",
      "\u001b[32m2024-02-21 19:18:09.504\u001b[0m | \u001b[31m\u001b[1mERROR   \u001b[0m | \u001b[36mamalur.AmalurMatrix\u001b[0m:\u001b[36m<module>\u001b[0m:\u001b[36m20\u001b[0m - \u001b[31m\u001b[1mUSE_MKL set to True, but could not import sparse_dot_mkl. Falling back to USE_MKL=False\u001b[0m\n",
      "\u001b[33m\u001b[1mTraceback (most recent call last):\u001b[0m\n",
      "\n",
      "  File \"/usr/lib/python3.10/runpy.py\", line 196, in _run_module_as_main\n",
      "    return _run_code(code, main_globals, None,\n",
      "           │         │     └ {'__name__': '__main__', '__doc__': 'Entry point for launching an IPython kernel.\\n\\nThis is separate from the ipykernel pack...\n",
      "           │         └ <code object <module> at 0x7f74b9d81630, file \"/home/pepijn/Documents/uni/y5/thesis/writing/msc-thesis-figures/.venv/lib/pyth...\n",
      "           └ <function _run_code at 0x7f74b9d8e440>\n",
      "  File \"/usr/lib/python3.10/runpy.py\", line 86, in _run_code\n",
      "    exec(code, run_globals)\n",
      "         │     └ {'__name__': '__main__', '__doc__': 'Entry point for launching an IPython kernel.\\n\\nThis is separate from the ipykernel pack...\n",
      "         └ <code object <module> at 0x7f74b9d81630, file \"/home/pepijn/Documents/uni/y5/thesis/writing/msc-thesis-figures/.venv/lib/pyth...\n",
      "  File \"/home/pepijn/Documents/uni/y5/thesis/writing/msc-thesis-figures/.venv/lib/python3.10/site-packages/ipykernel_launcher.py\", line 17, in <module>\n",
      "    app.launch_new_instance()\n",
      "    │   └ <bound method Application.launch_instance of <class 'ipykernel.kernelapp.IPKernelApp'>>\n",
      "    └ <module 'ipykernel.kernelapp' from '/home/pepijn/Documents/uni/y5/thesis/writing/msc-thesis-figures/.venv/lib/python3.10/site...\n",
      "  File \"/home/pepijn/Documents/uni/y5/thesis/writing/msc-thesis-figures/.venv/lib/python3.10/site-packages/traitlets/config/application.py\", line 1075, in launch_instance\n",
      "    app.start()\n",
      "    │   └ <function IPKernelApp.start at 0x7f74b72e5fc0>\n",
      "    └ <ipykernel.kernelapp.IPKernelApp object at 0x7f74b9d19cf0>\n",
      "  File \"/home/pepijn/Documents/uni/y5/thesis/writing/msc-thesis-figures/.venv/lib/python3.10/site-packages/ipykernel/kernelapp.py\", line 739, in start\n",
      "    self.io_loop.start()\n",
      "    │    │       └ <function BaseAsyncIOLoop.start at 0x7f74b72e6a70>\n",
      "    │    └ <tornado.platform.asyncio.AsyncIOMainLoop object at 0x7f74b71309d0>\n",
      "    └ <ipykernel.kernelapp.IPKernelApp object at 0x7f74b9d19cf0>\n",
      "  File \"/home/pepijn/Documents/uni/y5/thesis/writing/msc-thesis-figures/.venv/lib/python3.10/site-packages/tornado/platform/asyncio.py\", line 205, in start\n",
      "    self.asyncio_loop.run_forever()\n",
      "    │    │            └ <function BaseEventLoop.run_forever at 0x7f74b9345510>\n",
      "    │    └ <_UnixSelectorEventLoop running=True closed=False debug=False>\n",
      "    └ <tornado.platform.asyncio.AsyncIOMainLoop object at 0x7f74b71309d0>\n",
      "  File \"/usr/lib/python3.10/asyncio/base_events.py\", line 603, in run_forever\n",
      "    self._run_once()\n",
      "    │    └ <function BaseEventLoop._run_once at 0x7f74b9347010>\n",
      "    └ <_UnixSelectorEventLoop running=True closed=False debug=False>\n",
      "  File \"/usr/lib/python3.10/asyncio/base_events.py\", line 1909, in _run_once\n",
      "    handle._run()\n",
      "    │      └ <function Handle._run at 0x7f74b92f29e0>\n",
      "    └ <Handle Task.task_wakeup(<Future finis...2d0>, ...],))>)>\n",
      "  File \"/usr/lib/python3.10/asyncio/events.py\", line 80, in _run\n",
      "    self._context.run(self._callback, *self._args)\n",
      "    │    │            │    │           │    └ <member '_args' of 'Handle' objects>\n",
      "    │    │            │    │           └ <Handle Task.task_wakeup(<Future finis...2d0>, ...],))>)>\n",
      "    │    │            │    └ <member '_callback' of 'Handle' objects>\n",
      "    │    │            └ <Handle Task.task_wakeup(<Future finis...2d0>, ...],))>)>\n",
      "    │    └ <member '_context' of 'Handle' objects>\n",
      "    └ <Handle Task.task_wakeup(<Future finis...2d0>, ...],))>)>\n",
      "  File \"/home/pepijn/Documents/uni/y5/thesis/writing/msc-thesis-figures/.venv/lib/python3.10/site-packages/ipykernel/kernelbase.py\", line 542, in dispatch_queue\n",
      "    await self.process_one()\n",
      "          │    └ <function Kernel.process_one at 0x7f74b7719480>\n",
      "          └ <ipykernel.ipkernel.IPythonKernel object at 0x7f74b7130fa0>\n",
      "  File \"/home/pepijn/Documents/uni/y5/thesis/writing/msc-thesis-figures/.venv/lib/python3.10/site-packages/ipykernel/kernelbase.py\", line 531, in process_one\n",
      "    await dispatch(*args)\n",
      "          │         └ ([<zmq.sugar.frame.Frame object at 0x7f74b40cac40>, <zmq.sugar.frame.Frame object at 0x7f74b77222a0>, <zmq.sugar.frame.Frame ...\n",
      "          └ <bound method Kernel.dispatch_shell of <ipykernel.ipkernel.IPythonKernel object at 0x7f74b7130fa0>>\n",
      "  File \"/home/pepijn/Documents/uni/y5/thesis/writing/msc-thesis-figures/.venv/lib/python3.10/site-packages/ipykernel/kernelbase.py\", line 437, in dispatch_shell\n",
      "    await result\n",
      "          └ <coroutine object IPythonKernel.execute_request at 0x7f74b40df290>\n",
      "  File \"/home/pepijn/Documents/uni/y5/thesis/writing/msc-thesis-figures/.venv/lib/python3.10/site-packages/ipykernel/ipkernel.py\", line 359, in execute_request\n",
      "    await super().execute_request(stream, ident, parent)\n",
      "                                  │       │      └ {'header': {'date': datetime.datetime(2024, 2, 21, 18, 18, 8, 912000, tzinfo=tzutc()), 'msg_id': 'a4165eb4-7162-4a7f-a296-149...\n",
      "                                  │       └ [b'af98a34d-758e-486c-b37c-c53e8c0c6734']\n",
      "                                  └ <zmq.eventloop.zmqstream.ZMQStream object at 0x7f74b7130700>\n",
      "  File \"/home/pepijn/Documents/uni/y5/thesis/writing/msc-thesis-figures/.venv/lib/python3.10/site-packages/ipykernel/kernelbase.py\", line 775, in execute_request\n",
      "    reply_content = await reply_content\n",
      "                          └ <coroutine object IPythonKernel.do_execute at 0x7f74b40df5a0>\n",
      "  File \"/home/pepijn/Documents/uni/y5/thesis/writing/msc-thesis-figures/.venv/lib/python3.10/site-packages/ipykernel/ipkernel.py\", line 446, in do_execute\n",
      "    res = shell.run_cell(\n",
      "          │     └ <function ZMQInteractiveShell.run_cell at 0x7f74b72bf640>\n",
      "          └ <ipykernel.zmqshell.ZMQInteractiveShell object at 0x7f74b71314b0>\n",
      "  File \"/home/pepijn/Documents/uni/y5/thesis/writing/msc-thesis-figures/.venv/lib/python3.10/site-packages/ipykernel/zmqshell.py\", line 549, in run_cell\n",
      "    return super().run_cell(*args, **kwargs)\n",
      "                             │       └ {'store_history': True, 'silent': False, 'cell_id': 'vscode-notebook-cell:/home/pepijn/Documents/uni/y5/thesis/writing/msc-th...\n",
      "                             └ (\"import pandas as pd\\nimport numpy as np\\nimport sys\\nsys.path.append('/home/pepijn/Documents/uni/y5/thesis/amalur/amalur-ex...\n",
      "  File \"/home/pepijn/Documents/uni/y5/thesis/writing/msc-thesis-figures/.venv/lib/python3.10/site-packages/IPython/core/interactiveshell.py\", line 3051, in run_cell\n",
      "    result = self._run_cell(\n",
      "             │    └ <function InteractiveShell._run_cell at 0x7f74b8166440>\n",
      "             └ <ipykernel.zmqshell.ZMQInteractiveShell object at 0x7f74b71314b0>\n",
      "  File \"/home/pepijn/Documents/uni/y5/thesis/writing/msc-thesis-figures/.venv/lib/python3.10/site-packages/IPython/core/interactiveshell.py\", line 3106, in _run_cell\n",
      "    result = runner(coro)\n",
      "             │      └ <coroutine object InteractiveShell.run_cell_async at 0x7f74b40dfb50>\n",
      "             └ <function _pseudo_sync_runner at 0x7f74b8149d80>\n",
      "  File \"/home/pepijn/Documents/uni/y5/thesis/writing/msc-thesis-figures/.venv/lib/python3.10/site-packages/IPython/core/async_helpers.py\", line 129, in _pseudo_sync_runner\n",
      "    coro.send(None)\n",
      "    │    └ <method 'send' of 'coroutine' objects>\n",
      "    └ <coroutine object InteractiveShell.run_cell_async at 0x7f74b40dfb50>\n",
      "  File \"/home/pepijn/Documents/uni/y5/thesis/writing/msc-thesis-figures/.venv/lib/python3.10/site-packages/IPython/core/interactiveshell.py\", line 3311, in run_cell_async\n",
      "    has_raised = await self.run_ast_nodes(code_ast.body, cell_name,\n",
      "                       │    │             │        │     └ '/tmp/ipykernel_5967/2532907207.py'\n",
      "                       │    │             │        └ [<ast.Import object at 0x7f74a5dc6ad0>, <ast.Import object at 0x7f74a5dc7610>, <ast.Import object at 0x7f74a5dc6470>, <ast.Ex...\n",
      "                       │    │             └ <ast.Module object at 0x7f74a5dc7d30>\n",
      "                       │    └ <function InteractiveShell.run_ast_nodes at 0x7f74b8166710>\n",
      "                       └ <ipykernel.zmqshell.ZMQInteractiveShell object at 0x7f74b71314b0>\n",
      "  File \"/home/pepijn/Documents/uni/y5/thesis/writing/msc-thesis-figures/.venv/lib/python3.10/site-packages/IPython/core/interactiveshell.py\", line 3493, in run_ast_nodes\n",
      "    if await self.run_code(code, result, async_=asy):\n",
      "             │    │        │     │              └ False\n",
      "             │    │        │     └ <ExecutionResult object at 7f74a5c0a2c0, execution_count=2 error_before_exec=None error_in_exec=None info=<ExecutionInfo obje...\n",
      "             │    │        └ <code object <module> at 0x7f74a5b1ad90, file \"/tmp/ipykernel_5967/2532907207.py\", line 1>\n",
      "             │    └ <function InteractiveShell.run_code at 0x7f74b81667a0>\n",
      "             └ <ipykernel.zmqshell.ZMQInteractiveShell object at 0x7f74b71314b0>\n",
      "  File \"/home/pepijn/Documents/uni/y5/thesis/writing/msc-thesis-figures/.venv/lib/python3.10/site-packages/IPython/core/interactiveshell.py\", line 3553, in run_code\n",
      "    exec(code_obj, self.user_global_ns, self.user_ns)\n",
      "         │         │    │               │    └ {'__name__': '__main__', '__doc__': 'Automatically created module for IPython interactive environment', '__package__': None, ...\n",
      "         │         │    │               └ <ipykernel.zmqshell.ZMQInteractiveShell object at 0x7f74b71314b0>\n",
      "         │         │    └ <property object at 0x7f74b8147290>\n",
      "         │         └ <ipykernel.zmqshell.ZMQInteractiveShell object at 0x7f74b71314b0>\n",
      "         └ <code object <module> at 0x7f74a5b1ad90, file \"/tmp/ipykernel_5967/2532907207.py\", line 1>\n",
      "\n",
      "  File \"\u001b[32m/tmp/ipykernel_5967/\u001b[0m\u001b[32m\u001b[1m2532907207.py\u001b[0m\", line \u001b[33m6\u001b[0m, in \u001b[35m<module>\u001b[0m\n",
      "    \u001b[35m\u001b[1mfrom\u001b[0m \u001b[1mdatasets\u001b[0m\u001b[35m\u001b[1m.\u001b[0m\u001b[1mtpc_ai\u001b[0m\u001b[35m\u001b[1m.\u001b[0m\u001b[1mload\u001b[0m \u001b[35m\u001b[1mimport\u001b[0m \u001b[1mload_usecase_01\u001b[0m\n",
      "\n",
      "  File \"<frozen importlib._bootstrap>\", line 1027, in _find_and_load\n",
      "  File \"<frozen importlib._bootstrap>\", line 1006, in _find_and_load_unlocked\n",
      "  File \"<frozen importlib._bootstrap>\", line 688, in _load_unlocked\n",
      "  File \"<frozen importlib._bootstrap_external>\", line 883, in exec_module\n",
      "  File \"<frozen importlib._bootstrap>\", line 241, in _call_with_frames_removed\n",
      "\n",
      "  File \"\u001b[32m/home/pepijn/Documents/uni/y5/thesis/amalur/amalur-experiments/amalur-factorization/datasets/tpc_ai/\u001b[0m\u001b[32m\u001b[1mload.py\u001b[0m\", line \u001b[33m5\u001b[0m, in \u001b[35m<module>\u001b[0m\n",
      "    \u001b[35m\u001b[1mfrom\u001b[0m \u001b[1mamalur\u001b[0m\u001b[35m\u001b[1m.\u001b[0m\u001b[1mAmalurMatrix\u001b[0m \u001b[35m\u001b[1mimport\u001b[0m \u001b[1mAmalurMatrix\u001b[0m\n",
      "\n",
      "  File \"<frozen importlib._bootstrap>\", line 1027, in _find_and_load\n",
      "  File \"<frozen importlib._bootstrap>\", line 1006, in _find_and_load_unlocked\n",
      "  File \"<frozen importlib._bootstrap>\", line 688, in _load_unlocked\n",
      "  File \"<frozen importlib._bootstrap_external>\", line 883, in exec_module\n",
      "  File \"<frozen importlib._bootstrap>\", line 241, in _call_with_frames_removed\n",
      "\n",
      "> File \"\u001b[32m/home/pepijn/Documents/uni/y5/thesis/amalur/amalur-experiments/amalur-factorization/amalur/\u001b[0m\u001b[32m\u001b[1mAmalurMatrix.py\u001b[0m\", line \u001b[33m18\u001b[0m, in \u001b[35m<module>\u001b[0m\n",
      "    \u001b[35m\u001b[1mimport\u001b[0m \u001b[1msparse_dot_mkl\u001b[0m\n",
      "\n",
      "\u001b[31m\u001b[1mModuleNotFoundError\u001b[0m:\u001b[1m No module named 'sparse_dot_mkl'\u001b[0m\n",
      "\u001b[32m2024-02-21 19:18:09.513\u001b[0m | \u001b[1mINFO    \u001b[0m | \u001b[36mamalur.AmalurMatrix\u001b[0m:\u001b[36m<module>\u001b[0m:\u001b[36m34\u001b[0m - \u001b[1mLoaded AmalurMatrix with USE_GPU=False & USE_MKL=False\u001b[0m\n"
     ]
    }
   ],
   "source": [
    "import pandas as pd\n",
    "import numpy as np\n",
    "import sys\n",
    "sys.path.append('/home/pepijn/Documents/uni/y5/thesis/amalur/amalur-experiments/amalur-factorization')\n",
    "\n",
    "from datasets.tpc_ai.load import load_usecase_01\n"
   ]
  },
  {
   "cell_type": "code",
   "execution_count": 3,
   "metadata": {},
   "outputs": [
    {
     "name": "stderr",
     "output_type": "stream",
     "text": [
      "\u001b[32m2024-02-21 19:18:09.520\u001b[0m | \u001b[1mINFO    \u001b[0m | \u001b[36mdatasets.tpc_ai.load\u001b[0m:\u001b[36mload_usecase_01\u001b[0m:\u001b[36m29\u001b[0m - \u001b[1mLoading data for usecase01\u001b[0m\n",
      "\u001b[32m2024-02-21 19:18:09.522\u001b[0m | \u001b[34m\u001b[1mDEBUG   \u001b[0m | \u001b[36mdatasets.tpc_ai.load\u001b[0m:\u001b[36mload_usecase_01\u001b[0m:\u001b[36m34\u001b[0m - \u001b[34m\u001b[1mStart reading order_path='./data/order.csv'\u001b[0m\n",
      "\u001b[32m2024-02-21 19:18:09.527\u001b[0m | \u001b[34m\u001b[1mDEBUG   \u001b[0m | \u001b[36mdatasets.tpc_ai.load\u001b[0m:\u001b[36mload_usecase_01\u001b[0m:\u001b[36m36\u001b[0m - \u001b[34m\u001b[1mStart reading lineitem_path='./data/lineitem.csv'\u001b[0m\n",
      "\u001b[32m2024-02-21 19:18:09.529\u001b[0m | \u001b[34m\u001b[1mDEBUG   \u001b[0m | \u001b[36mdatasets.tpc_ai.load\u001b[0m:\u001b[36mload_usecase_01\u001b[0m:\u001b[36m38\u001b[0m - \u001b[34m\u001b[1mStart reading order_returns_path='./data/order_returns.csv'\u001b[0m\n",
      "\u001b[32m2024-02-21 19:18:09.531\u001b[0m | \u001b[34m\u001b[1mDEBUG   \u001b[0m | \u001b[36mdatasets.tpc_ai.load\u001b[0m:\u001b[36mload_usecase_01\u001b[0m:\u001b[36m40\u001b[0m - \u001b[34m\u001b[1mFinished reading data\u001b[0m\n",
      "\u001b[32m2024-02-21 19:18:09.544\u001b[0m | \u001b[1mINFO    \u001b[0m | \u001b[36mdatasets.tpc_ai.load\u001b[0m:\u001b[36mload_usecase_01\u001b[0m:\u001b[36m67\u001b[0m - \u001b[1mFinished preprocessing for usecase10, now creating matrices\u001b[0m\n",
      "\u001b[32m2024-02-21 19:18:09.545\u001b[0m | \u001b[1mINFO    \u001b[0m | \u001b[36mdatasets.tpc_ai.load\u001b[0m:\u001b[36mcreate_AmalurMatrix\u001b[0m:\u001b[36m113\u001b[0m - \u001b[1mCreating Mapping and Indicator matrices for source 0 with 3 rows\u001b[0m\n",
      "\u001b[32m2024-02-21 19:18:09.546\u001b[0m | \u001b[1mINFO    \u001b[0m | \u001b[36mdatasets.tpc_ai.load\u001b[0m:\u001b[36mcreate_AmalurMatrix\u001b[0m:\u001b[36m113\u001b[0m - \u001b[1mCreating Mapping and Indicator matrices for source 1 with 4 rows\u001b[0m\n",
      "\u001b[32m2024-02-21 19:18:09.547\u001b[0m | \u001b[1mINFO    \u001b[0m | \u001b[36mdatasets.tpc_ai.load\u001b[0m:\u001b[36mcreate_AmalurMatrix\u001b[0m:\u001b[36m113\u001b[0m - \u001b[1mCreating Mapping and Indicator matrices for source 2 with 1 rows\u001b[0m\n"
     ]
    }
   ],
   "source": [
    "amalur, T = load_usecase_01(\"./data\")"
   ]
  },
  {
   "cell_type": "code",
   "execution_count": 4,
   "metadata": {},
   "outputs": [
    {
     "data": {
      "text/html": [
       "<div>\n",
       "<style scoped>\n",
       "    .dataframe tbody tr th:only-of-type {\n",
       "        vertical-align: middle;\n",
       "    }\n",
       "\n",
       "    .dataframe tbody tr th {\n",
       "        vertical-align: top;\n",
       "    }\n",
       "\n",
       "    .dataframe thead th {\n",
       "        text-align: right;\n",
       "    }\n",
       "</style>\n",
       "<table border=\"1\" class=\"dataframe\">\n",
       "  <thead>\n",
       "    <tr style=\"text-align: right;\">\n",
       "      <th></th>\n",
       "      <th>o_order_id</th>\n",
       "      <th>o_customer_sk</th>\n",
       "      <th>invoice_year</th>\n",
       "      <th>quantity</th>\n",
       "      <th>price</th>\n",
       "      <th>row_price</th>\n",
       "      <th>or_return_quantity</th>\n",
       "    </tr>\n",
       "  </thead>\n",
       "  <tbody>\n",
       "    <tr>\n",
       "      <th>0</th>\n",
       "      <td>1</td>\n",
       "      <td>11</td>\n",
       "      <td>2024</td>\n",
       "      <td>2</td>\n",
       "      <td>20</td>\n",
       "      <td>40</td>\n",
       "      <td>0</td>\n",
       "    </tr>\n",
       "    <tr>\n",
       "      <th>1</th>\n",
       "      <td>1</td>\n",
       "      <td>11</td>\n",
       "      <td>2024</td>\n",
       "      <td>1</td>\n",
       "      <td>25</td>\n",
       "      <td>25</td>\n",
       "      <td>0</td>\n",
       "    </tr>\n",
       "    <tr>\n",
       "      <th>2</th>\n",
       "      <td>2</td>\n",
       "      <td>12</td>\n",
       "      <td>2024</td>\n",
       "      <td>3</td>\n",
       "      <td>13</td>\n",
       "      <td>39</td>\n",
       "      <td>0</td>\n",
       "    </tr>\n",
       "    <tr>\n",
       "      <th>3</th>\n",
       "      <td>3</td>\n",
       "      <td>11</td>\n",
       "      <td>2023</td>\n",
       "      <td>1</td>\n",
       "      <td>10</td>\n",
       "      <td>10</td>\n",
       "      <td>1</td>\n",
       "    </tr>\n",
       "  </tbody>\n",
       "</table>\n",
       "</div>"
      ],
      "text/plain": [
       "   o_order_id  o_customer_sk  invoice_year  quantity  price  row_price  \\\n",
       "0           1             11          2024         2     20         40   \n",
       "1           1             11          2024         1     25         25   \n",
       "2           2             12          2024         3     13         39   \n",
       "3           3             11          2023         1     10         10   \n",
       "\n",
       "   or_return_quantity  \n",
       "0                   0  \n",
       "1                   0  \n",
       "2                   0  \n",
       "3                   1  "
      ]
     },
     "metadata": {},
     "output_type": "display_data"
    },
    {
     "data": {
      "text/html": [
       "<div>\n",
       "<style scoped>\n",
       "    .dataframe tbody tr th:only-of-type {\n",
       "        vertical-align: middle;\n",
       "    }\n",
       "\n",
       "    .dataframe tbody tr th {\n",
       "        vertical-align: top;\n",
       "    }\n",
       "\n",
       "    .dataframe thead th {\n",
       "        text-align: right;\n",
       "    }\n",
       "</style>\n",
       "<table border=\"1\" class=\"dataframe\">\n",
       "  <thead>\n",
       "    <tr style=\"text-align: right;\">\n",
       "      <th></th>\n",
       "      <th>0</th>\n",
       "      <th>1</th>\n",
       "      <th>2</th>\n",
       "      <th>3</th>\n",
       "      <th>4</th>\n",
       "      <th>5</th>\n",
       "      <th>6</th>\n",
       "    </tr>\n",
       "  </thead>\n",
       "  <tbody>\n",
       "    <tr>\n",
       "      <th>0</th>\n",
       "      <td>1.0</td>\n",
       "      <td>11.0</td>\n",
       "      <td>2024.0</td>\n",
       "      <td>2.0</td>\n",
       "      <td>20.0</td>\n",
       "      <td>40.0</td>\n",
       "      <td>0.0</td>\n",
       "    </tr>\n",
       "    <tr>\n",
       "      <th>1</th>\n",
       "      <td>1.0</td>\n",
       "      <td>11.0</td>\n",
       "      <td>2024.0</td>\n",
       "      <td>1.0</td>\n",
       "      <td>25.0</td>\n",
       "      <td>25.0</td>\n",
       "      <td>0.0</td>\n",
       "    </tr>\n",
       "    <tr>\n",
       "      <th>2</th>\n",
       "      <td>2.0</td>\n",
       "      <td>12.0</td>\n",
       "      <td>2024.0</td>\n",
       "      <td>3.0</td>\n",
       "      <td>13.0</td>\n",
       "      <td>39.0</td>\n",
       "      <td>0.0</td>\n",
       "    </tr>\n",
       "    <tr>\n",
       "      <th>3</th>\n",
       "      <td>3.0</td>\n",
       "      <td>11.0</td>\n",
       "      <td>2023.0</td>\n",
       "      <td>1.0</td>\n",
       "      <td>10.0</td>\n",
       "      <td>10.0</td>\n",
       "      <td>1.0</td>\n",
       "    </tr>\n",
       "  </tbody>\n",
       "</table>\n",
       "</div>"
      ],
      "text/plain": [
       "     0     1       2    3     4     5    6\n",
       "0  1.0  11.0  2024.0  2.0  20.0  40.0  0.0\n",
       "1  1.0  11.0  2024.0  1.0  25.0  25.0  0.0\n",
       "2  2.0  12.0  2024.0  3.0  13.0  39.0  0.0\n",
       "3  3.0  11.0  2023.0  1.0  10.0  10.0  1.0"
      ]
     },
     "metadata": {},
     "output_type": "display_data"
    },
    {
     "name": "stdout",
     "output_type": "stream",
     "text": [
      "difference:  0.0\n"
     ]
    }
   ],
   "source": [
    "T['or_return_quantity'] = T['or_return_quantity'].astype(int)\n",
    "display(T)\n",
    "display(pd.DataFrame(amalur.materialize().todense()))\n",
    "print(\"difference: \" , np.sum(np.abs((T.values - amalur.materialize().todense()))))"
   ]
  },
  {
   "cell_type": "code",
   "execution_count": 40,
   "metadata": {},
   "outputs": [],
   "source": [
    "def bmatrix(a, label=None):\n",
    "    \"\"\"Returns a LaTeX bmatrix\n",
    "\n",
    "    :a: numpy array\n",
    "    :returns: LaTeX bmatrix as a string\n",
    "    \"\"\"\n",
    "    if len(a.shape) > 2:\n",
    "        raise ValueError('bmatrix can at most display two dimensions')\n",
    "    lines = str(a).replace('[', '').replace(']', '').splitlines()\n",
    "    if label in [\"T\", \"S\"]:\n",
    "        rv = [r'\\begin{bNiceMatrix}[first-row,last-col]']\n",
    "        rv += ['&'.join(['C' for x in range(a.shape[1])]) + r' \\\\']        \n",
    "    elif label in [\"I\", \"M\"]:\n",
    "        rv = [r'\\begin{bNiceMatrix}[last-col]']\n",
    "    else:\n",
    "        rv = [r'\\begin{bNiceMatrix}']\n",
    "    rv += ['  ' + ' & '.join(l.split()) + r'\\\\' for l in lines]\n",
    "        \n",
    "        \n",
    "    rv +=  [r'\\end{bNiceMatrix}']\n",
    "    return '\\n'.join(rv)\n"
   ]
  },
  {
   "cell_type": "code",
   "execution_count": 30,
   "metadata": {},
   "outputs": [
    {
     "name": "stdout",
     "output_type": "stream",
     "text": [
      "\\begin{equation}T = \\begin{bNiceMatrix}[first-row,last-col]\n",
      "C&C&C&C&C&C&C \\\\\n",
      "  1 & 11 & 2024 & 2 & 20 & 40 & 0& L \\\\\n",
      "  1 & 11 & 2024 & 1 & 25 & 25 & 0& L \\\\\n",
      "  2 & 12 & 2024 & 3 & 13 & 39 & 0& L \\\\\n",
      "  3 & 11 & 2023 & 1 & 10 & 10 & 1& L \\\\\n",
      "\\end{bNiceMatrix}\\end{equation}\n",
      "\\begin{equation}S_0 = \\begin{bNiceMatrix}[first-row,last-col]\n",
      "C&C&C \\\\\n",
      "  1 & 11 & 2024& L \\\\\n",
      "  2 & 12 & 2024& L \\\\\n",
      "  3 & 11 & 2023& L \\\\\n",
      "\\end{bNiceMatrix}\\end{equation}\n",
      "\\begin{equation}S_1 = \\begin{bNiceMatrix}[first-row,last-col]\n",
      "C&C&C \\\\\n",
      "  2 & 20 & 40& L \\\\\n",
      "  1 & 25 & 25& L \\\\\n",
      "  3 & 13 & 39& L \\\\\n",
      "  1 & 10 & 10& L \\\\\n",
      "\\end{bNiceMatrix}\\end{equation}\n",
      "\\begin{equation}S_2 = \\begin{bNiceMatrix}[first-row,last-col]\n",
      "C \\\\\n",
      "  1& L \\\\\n",
      "\\end{bNiceMatrix}\\end{equation}\n",
      "\\begin{equation}I_0 = \\begin{bNiceMatrix}[last-col]\n",
      "  1 & 0 & 0& L \\\\\n",
      "  1 & 0 & 0& L \\\\\n",
      "  0 & 1 & 0& L \\\\\n",
      "  0 & 0 & 1& L \\\\\n",
      "\\end{bNiceMatrix}\\end{equation}\n",
      "\\begin{equation}I_1 = \\begin{bNiceMatrix}[last-col]\n",
      "  1 & 0 & 0 & 0& L \\\\\n",
      "  0 & 1 & 0 & 0& L \\\\\n",
      "  0 & 0 & 1 & 0& L \\\\\n",
      "  0 & 0 & 0 & 1& L \\\\\n",
      "\\end{bNiceMatrix}\\end{equation}\n",
      "\\begin{equation}I_2 = \\begin{bNiceMatrix}[last-col]\n",
      "  0& L \\\\\n",
      "  0& L \\\\\n",
      "  0& L \\\\\n",
      "  1& L \\\\\n",
      "\\end{bNiceMatrix}\\end{equation}\n",
      "\\begin{equation}M_0 = \\begin{bNiceMatrix}[last-col]\n",
      "  1 & 0 & 0& L \\\\\n",
      "  0 & 1 & 0& L \\\\\n",
      "  0 & 0 & 1& L \\\\\n",
      "  0 & 0 & 0& L \\\\\n",
      "  0 & 0 & 0& L \\\\\n",
      "  0 & 0 & 0& L \\\\\n",
      "  0 & 0 & 0& L \\\\\n",
      "\\end{bNiceMatrix}\\end{equation}\n",
      "\\begin{equation}M_1 = \\begin{bNiceMatrix}[last-col]\n",
      "  0 & 0 & 0& L \\\\\n",
      "  0 & 0 & 0& L \\\\\n",
      "  0 & 0 & 0& L \\\\\n",
      "  1 & 0 & 0& L \\\\\n",
      "  0 & 1 & 0& L \\\\\n",
      "  0 & 0 & 1& L \\\\\n",
      "  0 & 0 & 0& L \\\\\n",
      "\\end{bNiceMatrix}\\end{equation}\n",
      "\\begin{equation}M_2 = \\begin{bNiceMatrix}[last-col]\n",
      "  0& L \\\\\n",
      "  0& L \\\\\n",
      "  0& L \\\\\n",
      "  0& L \\\\\n",
      "  0& L \\\\\n",
      "  0& L \\\\\n",
      "  1& L \\\\\n",
      "\\end{bNiceMatrix}\\end{equation}\n"
     ]
    }
   ],
   "source": [
    "def print_as_latex(matrices, label=None):\n",
    "        for i, x in enumerate(matrices):\n",
    "            printlabel = label\n",
    "            x = x.astype(int)\n",
    "            if label != \"T\":\n",
    "                try:\n",
    "                    x = x.todense()\n",
    "                except:\n",
    "                    pass\n",
    "                printlabel = f\"{label}_{i}\"\n",
    "            print(\"\\\\begin{equation}\" + f\"{printlabel} = {bmatrix(x, label)}\" + \"\\\\end{equation}\")\n",
    "            \n",
    "def print_matrices(amalur):           \n",
    "    print_as_latex([T.values], \"T\")\n",
    "    print_as_latex(amalur.S, \"S\")\n",
    "    print_as_latex(amalur.I, \"I\")\n",
    "    print_as_latex(amalur.M, \"M\")\n",
    "print_matrices(amalur)"
   ]
  },
  {
   "cell_type": "code",
   "execution_count": 53,
   "metadata": {},
   "outputs": [
    {
     "name": "stdout",
     "output_type": "stream",
     "text": [
      "\\begin{equation}T = \\begin{bNiceMatrix}[first-row,last-col]\n",
      "C&C&C&C&C&C&C \\\\\n",
      "  1 & 11 & 2024 & 0 & 0 & 0 & 0\\\\\n",
      "  1 & 11 & 2024 & 0 & 0 & 0 & 0\\\\\n",
      "  2 & 12 & 2024 & 0 & 0 & 0 & 0\\\\\n",
      "  3 & 11 & 2023 & 0 & 0 & 0 & 0\\\\\n",
      "\\end{bNiceMatrix}\\end{equation}\n",
      "\\begin{equation}T = \\begin{bNiceMatrix}[first-row,last-col]\n",
      "C&C&C&C&C&C&C \\\\\n",
      "  0 & 0 & 0 & 2 & 20 & 40 & 0\\\\\n",
      "  0 & 0 & 0 & 1 & 25 & 25 & 0\\\\\n",
      "  0 & 0 & 0 & 3 & 13 & 39 & 0\\\\\n",
      "  0 & 0 & 0 & 1 & 10 & 10 & 0\\\\\n",
      "\\end{bNiceMatrix}\\end{equation}\n",
      "\\begin{equation}T = \\begin{bNiceMatrix}[first-row,last-col]\n",
      "C&C&C&C&C&C&C \\\\\n",
      "  0 & 0 & 0 & 0 & 0 & 0 & 0\\\\\n",
      "  0 & 0 & 0 & 0 & 0 & 0 & 0\\\\\n",
      "  0 & 0 & 0 & 0 & 0 & 0 & 0\\\\\n",
      "  0 & 0 & 0 & 0 & 0 & 0 & 1\\\\\n",
      "\\end{bNiceMatrix}\\end{equation}\n"
     ]
    }
   ],
   "source": [
    "Ts = []\n",
    "for i in range(3):\n",
    "    Ts.append(amalur.I[i] * amalur.S[i] * amalur.M[i].T.todense())\n",
    "    print_as_latex([Ts[i]], 'T')"
   ]
  },
  {
   "cell_type": "code",
   "execution_count": 8,
   "metadata": {},
   "outputs": [
    {
     "name": "stdout",
     "output_type": "stream",
     "text": [
      "\\begin{equation}T = \\begin{bNiceMatrix}[first-row,last-col]\n",
      "C&C&C \\\\\n",
      "  1 & 11 & 2024& L \\\\\n",
      "  1 & 11 & 2024& L \\\\\n",
      "  2 & 12 & 2024& L \\\\\n",
      "  3 & 11 & 2023& L \\\\\n",
      "\\end{bNiceMatrix}\\end{equation}\n"
     ]
    }
   ],
   "source": [
    "print_as_latex([(amalur.I[0] * amalur.S[0]).todense()], 'T')"
   ]
  },
  {
   "cell_type": "code",
   "execution_count": 9,
   "metadata": {},
   "outputs": [
    {
     "name": "stdout",
     "output_type": "stream",
     "text": [
      "\\begin{equation}M_0 = \\begin{bNiceMatrix}[last-col]\n",
      "  1 & 0 & 0 & 0 & 0 & 0 & 0& L \\\\\n",
      "  0 & 1 & 0 & 0 & 0 & 0 & 0& L \\\\\n",
      "  0 & 0 & 1 & 0 & 0 & 0 & 0& L \\\\\n",
      "\\end{bNiceMatrix}\\end{equation}\n"
     ]
    }
   ],
   "source": [
    "print_as_latex([amalur.M[0].T], 'M')"
   ]
  },
  {
   "cell_type": "markdown",
   "metadata": {},
   "source": [
    "## Running Example: Right Matrix Multiplication"
   ]
  },
  {
   "cell_type": "code",
   "execution_count": 45,
   "metadata": {},
   "outputs": [
    {
     "name": "stdout",
     "output_type": "stream",
     "text": [
      "\\begin{bNiceMatrix}\n",
      "  1 & 11 & 2024 & 2 & 20 & 40 & 0\\\\\n",
      "  1 & 11 & 2024 & 1 & 25 & 25 & 0\\\\\n",
      "  2 & 12 & 2024 & 3 & 13 & 39 & 0\\\\\n",
      "  3 & 11 & 2023 & 1 & 10 & 10 & 1\\\\\n",
      "\\end{bNiceMatrix}\n"
     ]
    }
   ],
   "source": [
    "print(bmatrix(T.values))"
   ]
  },
  {
   "cell_type": "code",
   "execution_count": 49,
   "metadata": {},
   "outputs": [
    {
     "name": "stdout",
     "output_type": "stream",
     "text": [
      "\\begin{bNiceMatrix}\n",
      "  1 & 1 & 2 & 3\\\\\n",
      "\\end{bNiceMatrix}\n"
     ]
    }
   ],
   "source": [
    "X = np.array([1,1,2,3])\n",
    "print(bmatrix(X))"
   ]
  },
  {
   "cell_type": "code",
   "execution_count": 50,
   "metadata": {},
   "outputs": [
    {
     "name": "stdout",
     "output_type": "stream",
     "text": [
      "\\begin{bNiceMatrix}\n",
      "  15 & 79 & 14165 & 12 & 101 & 173 & 3\\\\\n",
      "\\end{bNiceMatrix}\n"
     ]
    }
   ],
   "source": [
    "print(bmatrix(X.dot(T.values)))"
   ]
  },
  {
   "cell_type": "code",
   "execution_count": 54,
   "metadata": {},
   "outputs": [
    {
     "name": "stdout",
     "output_type": "stream",
     "text": [
      "\\begin{bNiceMatrix}\n",
      "  15. & 79. & 14165. & 0. & 0. & 0. & 0.\\\\\n",
      "\\end{bNiceMatrix}\n",
      "\\begin{bNiceMatrix}\n",
      "  0. & 0. & 0. & 12. & 101. & 173. & 0.\\\\\n",
      "\\end{bNiceMatrix}\n",
      "\\begin{bNiceMatrix}\n",
      "  0. & 0. & 0. & 0. & 0. & 0. & 3.\\\\\n",
      "\\end{bNiceMatrix}\n"
     ]
    }
   ],
   "source": [
    "for T in Ts:\n",
    "    print(bmatrix(X.dot(T)))"
   ]
  },
  {
   "cell_type": "code",
   "execution_count": 56,
   "metadata": {},
   "outputs": [
    {
     "data": {
      "text/plain": [
       "matrix([[1.000e+00, 1.100e+01, 2.024e+03, 2.000e+00, 2.000e+01,\n",
       "         4.000e+01, 0.000e+00],\n",
       "        [1.000e+00, 1.100e+01, 2.024e+03, 1.000e+00, 2.500e+01,\n",
       "         2.500e+01, 0.000e+00],\n",
       "        [2.000e+00, 1.200e+01, 2.024e+03, 3.000e+00, 1.300e+01,\n",
       "         3.900e+01, 0.000e+00],\n",
       "        [3.000e+00, 1.100e+01, 2.023e+03, 1.000e+00, 1.000e+01,\n",
       "         1.000e+01, 1.000e+00]])"
      ]
     },
     "execution_count": 56,
     "metadata": {},
     "output_type": "execute_result"
    }
   ],
   "source": [
    "sum(Ts)"
   ]
  }
 ],
 "metadata": {
  "kernelspec": {
   "display_name": ".venv",
   "language": "python",
   "name": "python3"
  },
  "language_info": {
   "codemirror_mode": {
    "name": "ipython",
    "version": 3
   },
   "file_extension": ".py",
   "mimetype": "text/x-python",
   "name": "python",
   "nbconvert_exporter": "python",
   "pygments_lexer": "ipython3",
   "version": "3.10.12"
  }
 },
 "nbformat": 4,
 "nbformat_minor": 2
}
