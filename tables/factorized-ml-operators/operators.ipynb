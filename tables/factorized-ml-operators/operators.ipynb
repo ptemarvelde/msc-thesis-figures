{
 "cells": [
  {
   "cell_type": "code",
   "execution_count": 99,
   "metadata": {},
   "outputs": [
    {
     "data": {
      "text/html": [
       "<div>\n",
       "<style scoped>\n",
       "    .dataframe tbody tr th:only-of-type {\n",
       "        vertical-align: middle;\n",
       "    }\n",
       "\n",
       "    .dataframe tbody tr th {\n",
       "        vertical-align: top;\n",
       "    }\n",
       "\n",
       "    .dataframe thead th {\n",
       "        text-align: right;\n",
       "    }\n",
       "</style>\n",
       "<table border=\"1\" class=\"dataframe\">\n",
       "  <thead>\n",
       "    <tr style=\"text-align: right;\">\n",
       "      <th></th>\n",
       "      <th></th>\n",
       "      <th></th>\n",
       "      <th></th>\n",
       "      <th></th>\n",
       "      <th></th>\n",
       "    </tr>\n",
       "    <tr>\n",
       "      <th>Group</th>\n",
       "      <th>Operator</th>\n",
       "      <th>Example</th>\n",
       "      <th>Operand</th>\n",
       "      <th>Output</th>\n",
       "      <th>Used in models</th>\n",
       "    </tr>\n",
       "  </thead>\n",
       "  <tbody>\n",
       "    <tr>\n",
       "      <th rowspan=\"5\" valign=\"top\">Element-wise</th>\n",
       "      <th>Addition</th>\n",
       "      <th>$T + x$</th>\n",
       "      <th>scalar $x$</th>\n",
       "      <th>Normalized Matrix</th>\n",
       "      <th>NaN</th>\n",
       "    </tr>\n",
       "    <tr>\n",
       "      <th>Multiplication</th>\n",
       "      <th>$T \\times x$</th>\n",
       "      <th>scalar $x$</th>\n",
       "      <th>Normalized Matrix</th>\n",
       "      <th>K-Means</th>\n",
       "    </tr>\n",
       "    <tr>\n",
       "      <th>Division</th>\n",
       "      <th>$T / x$</th>\n",
       "      <th>scalar $x$</th>\n",
       "      <th>Normalized Matrix</th>\n",
       "      <th>NaN</th>\n",
       "    </tr>\n",
       "    <tr>\n",
       "      <th>Transposition</th>\n",
       "      <th>$T^T$</th>\n",
       "      <th>NaN</th>\n",
       "      <th>Normalized Matrix</th>\n",
       "      <th>LinReg, LogReg, K-Means, G-NMF</th>\n",
       "    </tr>\n",
       "    <tr>\n",
       "      <th>Generic Scalar Function</th>\n",
       "      <th>$f(T)$</th>\n",
       "      <th>f</th>\n",
       "      <th>Normalized Matrix</th>\n",
       "      <th>K-Means ($exp$)</th>\n",
       "    </tr>\n",
       "    <tr>\n",
       "      <th rowspan=\"2\" valign=\"top\">Aggregation</th>\n",
       "      <th>Row Summation</th>\n",
       "      <th>$rowSums(T)$</th>\n",
       "      <th>NaN</th>\n",
       "      <th>Column Vector</th>\n",
       "      <th>K-Means</th>\n",
       "    </tr>\n",
       "    <tr>\n",
       "      <th>Column Summation</th>\n",
       "      <th>$colSums(T)$</th>\n",
       "      <th>NaN</th>\n",
       "      <th>Row Vector</th>\n",
       "      <th>NaN</th>\n",
       "    </tr>\n",
       "    <tr>\n",
       "      <th rowspan=\"2\" valign=\"top\">Multiplication</th>\n",
       "      <th>Left Matrix Multiplication</th>\n",
       "      <th>$T Y$</th>\n",
       "      <th>Matrix Y $(c_T \\times r_Y)$</th>\n",
       "      <th>Matrix $(r_T \\times c_X)$</th>\n",
       "      <th>LinReg, LogReg, K-Means</th>\n",
       "    </tr>\n",
       "    <tr>\n",
       "      <th>Right Matrix Multiplication</th>\n",
       "      <th>$Y T$</th>\n",
       "      <th>Matrix Y $(c_X \\times r_X)$</th>\n",
       "      <th>Matrix $(r_Y \\times c_T)$</th>\n",
       "      <th>G-NMF</th>\n",
       "    </tr>\n",
       "  </tbody>\n",
       "</table>\n",
       "</div>"
      ],
      "text/plain": [
       "Empty DataFrame\n",
       "Columns: []\n",
       "Index: [(Element-wise, Addition, $T + x$, scalar $x$, Normalized Matrix, nan), (Element-wise, Multiplication, $T \\times x$, scalar $x$, Normalized Matrix, K-Means), (Element-wise, Division, $T / x$, scalar $x$, Normalized Matrix, nan), (Element-wise, Transposition, $T^T$, nan, Normalized Matrix, LinReg, LogReg, K-Means, G-NMF), (Element-wise, Generic Scalar Function, $f(T)$, f, Normalized Matrix, K-Means ($exp$)), (Aggregation, Row Summation, $rowSums(T)$, nan, Column Vector, K-Means), (Aggregation, Column Summation, $colSums(T)$, nan, Row Vector, nan), (Multiplication, Left Matrix Multiplication, $T Y$, Matrix Y $(c_T \\times r_Y)$, Matrix $(r_T \\times c_X)$, LinReg, LogReg, K-Means), (Multiplication, Right Matrix Multiplication, $Y T$, Matrix Y $(c_X \\times r_X)$, Matrix $(r_Y \\times c_T)$, G-NMF)]"
      ]
     },
     "execution_count": 99,
     "metadata": {},
     "output_type": "execute_result"
    }
   ],
   "source": [
    "from figure_utils import *\n",
    "import pandas as pd\n",
    "raw = pd.read_csv(\"./tables/factorized-ml-operators/operators.tsv\", delimiter=\"\\t\")\n",
    "raw.Example = raw.Example.apply(lambda x: f\"${x}$\")\n",
    "df = raw.set_index([\"Group\", \"Operator\", 'Example', \"Operand\", \"Output\", \"Used in models\"])\n",
    "df"
   ]
  },
  {
   "cell_type": "code",
   "execution_count": 100,
   "metadata": {},
   "outputs": [
    {
     "data": {
      "text/plain": [
       "'\\\\begin{tabular}{l}\\n\\\\toprule\\nOutput \\\\\\\\\\n\\\\midrule\\nNormalized Matrix \\\\\\\\\\nNormalized Matrix \\\\\\\\\\nNormalized Matrix \\\\\\\\\\nNormalized Matrix \\\\\\\\\\nNormalized Matrix \\\\\\\\\\nColumn Vector \\\\\\\\\\nRow Vector \\\\\\\\\\nMatrix $(r_T \\\\times c_X)$ \\\\\\\\\\nMatrix $(r_Y \\\\times c_T)$ \\\\\\\\\\n\\\\bottomrule\\n\\\\end{tabular}\\n'"
      ]
     },
     "execution_count": 100,
     "metadata": {},
     "output_type": "execute_result"
    }
   ],
   "source": [
    "raw[['Output']].set_index(['Output']).to_latex(index=True)"
   ]
  },
  {
   "cell_type": "code",
   "execution_count": 103,
   "metadata": {},
   "outputs": [
    {
     "name": "stdout",
     "output_type": "stream",
     "text": [
      "\\begin{tabular}{p{0.12\\linewidth}p{0.16\\linewidth}p{0.1\\linewidth}p{0.13\\linewidth}p{0.15\\linewidth}p{0.19\\linewidth}}\n",
      "\\toprule\n",
      "Group & Operator & Example & 2\\textsuperscript{nd} Operand & Output & Used in models \\\\\n",
      "\\midrule\\midrule\n",
      "\\multirow[t]{5}{*}{\\parbox{1\\linewidth}{\\vspace{2.3cm}\\hspace{0pt}Element-wise}} & Addition & $T + x$ & scalar $x$ & \\multirow[t]{5}{*}{\\parbox{1\\linewidth}{\\vspace{2.3cm}Normalized Matrix}} & — \\\\\n",
      "\n",
      " & Multiplication & $T \\times x$ & scalar $x$ &  & K-Means \\\\\n",
      "\n",
      " & Division & $T / x$ & scalar $x$ &  & — \\\\\n",
      "\n",
      " & Transposition & $T^T$ & — &  & LinReg, LogReg, K-Means, G-NMF \\\\\n",
      "\n",
      " & Generic Scalar Function & $f(T)$ & f &  & K-Means ($exp$) \\\\\n",
      "\\cline{1-6}\n",
      "\\multirow[t]{2}{*}{\\parbox{1\\linewidth}{\\vspace{1.3cm}\\hspace{0pt}Aggregation}} & Row Summation & \\hspace{0pt} row-Sums$(T)$ & — & Column Vector & K-Means \\\\\n",
      "\n",
      " & Column Summation & \\hspace{0pt} col-Sums$(T)$ & — & Row Vector & — \\\\\n",
      "\\cline{1-6}\n",
      "\\multirow[t]{2}{*}{\\parbox{1\\linewidth}{\\vspace{1.3cm}\\hspace{0pt}Multiplication}} & Left Matrix Multiplication & $T Y$ & Matrix Y $(c_T \\times r_Y)$ & Matrix $(r_T \\times c_X)$ & LinReg, LogReg, K-Means \\\\\n",
      "\n",
      " & Right Matrix Multiplication & $Y T$ & Matrix Y $(c_X \\times r_X)$ & Matrix $(r_Y \\times c_T)$ & G-NMF \\\\\n",
      "\\cline{1-6}\n",
      "\\bottomrule\n",
      "\\end{tabular}\n",
      "\n"
     ]
    }
   ],
   "source": [
    "table = df.to_latex(\n",
    "    index=True,\n",
    "    na_rep=\"—\",\n",
    ")\\\n",
    "    .replace(\"llllll\", \"p{0.12\\linewidth}p{0.16\\linewidth}p{0.1\\linewidth}p{0.13\\linewidth}p{0.15\\linewidth}p{0.19\\linewidth}\")\\\n",
    "    .replace(\"\\cline{1-6} \\cline{2-6} \\cline{3-6} \\cline{4-6} \\cline{5-6}\", \"\\cline{1-6}\")\\\n",
    "    .replace(\"Normalized Matrix\", \"\")\\\n",
    "    .replace(\"+ x$ & scalar $x$ &  &\", \"+ x$ & scalar $x$ & \\multirow[t]{5}{*}{\\parbox{1\\linewidth}{\\\\vspace{2.3cm}Normalized Matrix}} &\")\\\n",
    "    .replace(\"\\cline{2-6} \\cline{3-6} \\cline{4-6} \\cline{5-6}\", \"\" )\\\n",
    "    .replace(\"Operand\", \"2\\\\textsuperscript{nd} Operand\")\\\n",
    "    .replace(\"\\midrule\", \"\\midrule\\midrule\")\\\n",
    ".replace(\"$rowSums(T)$\", \"\\hspace{0pt} row-Sums$(T)$\")\\\n",
    "    .replace(\"$colSums(T)$\", \"\\hspace{0pt} col-Sums$(T)$\")\\\n",
    "        .replace(\"{Element-wise}\", \"{\\parbox{1\\linewidth}{\\\\vspace{2.3cm}\\hspace{0pt}Element-wise}}\")\\\n",
    "        .replace(\"{Aggregation}\", \"{\\parbox{1\\linewidth}{\\\\vspace{1.3cm}\\hspace{0pt}Aggregation}}\")\\\n",
    "        .replace(\"{Multiplication}\", \"{\\parbox{1\\linewidth}{\\\\vspace{1.3cm}\\hspace{0pt}Multiplication}}\")\n",
    "            \n",
    "save_table(table, \"chapters/02_preliminaries/auto-generated/operators.tex\")"
   ]
  }
 ],
 "metadata": {
  "kernelspec": {
   "display_name": ".venv",
   "language": "python",
   "name": "python3"
  },
  "language_info": {
   "codemirror_mode": {
    "name": "ipython",
    "version": 3
   },
   "file_extension": ".py",
   "mimetype": "text/x-python",
   "name": "python",
   "nbconvert_exporter": "python",
   "pygments_lexer": "ipython3",
   "version": "3.8.10"
  }
 },
 "nbformat": 4,
 "nbformat_minor": 2
}
