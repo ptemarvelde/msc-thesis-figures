{
 "cells": [
  {
   "cell_type": "code",
   "execution_count": 1,
   "metadata": {},
   "outputs": [],
   "source": [
    "from figure_utils import save_table\n",
    "import pandas as pd\n",
    "# https://docs.google.com/spreadsheets/d/1irZHhFP2NfIXyPqcMDqKStY_DY6nldomHGwXuCSBl20/edit#gid=1226257673"
   ]
  },
  {
   "cell_type": "code",
   "execution_count": 26,
   "metadata": {},
   "outputs": [
    {
     "name": "stdout",
     "output_type": "stream",
     "text": [
      "\\begin{tabular}{lp{0.35\\linewidth}p{0.10\\linewidth}>{\\footnotesize}p{0.2\\linewidth}p{0.08\\linewidth}p{0.15\\linewidth}}\n",
      "\\toprule\n",
      "Dimension & Feature & Symbol & Formula & Type & Notes \\\\\n",
      "\\midrule\\midrule\n",
      "\\multirow[t]{10}{*}{Data} & Dataset size (rows, columns) & $r_T, c_T$ &  & N &  \\\\\n",
      " & Feature ratio & $\\rho$ & $\\frac{n_S}{\\sum_{k=1}^p n_k} $ & N &  \\\\\n",
      " & Join type & $j_t$ &  & C &  \\\\\n",
      " & Selectivity & $\\sigma$ & $\\frac{\\sum_{k=1}^{n}r_{S_k}}{r_T}$ & N &  \\\\\n",
      " & Sparsity & $e_T$ & $\\frac{nnz(T)}{r_T\\times c_T}$ & N &  \\\\\n",
      " & Sparsity ratio &  & $\\frac{e_T}{e_S}$ & N &  \\\\\n",
      " & Tuple ratio & $\\tau$ & $\\frac{\\sum_{k=1}^p d_k}{d_S}$ & N &  \\\\\n",
      " & \\# Base tables & $n$ &  & N &  \\\\\n",
      " & \\# Non-zero values & $nnz(T)$ & $nnz(S) = \\sum_{k=1}^{n}nnz(S_k)$ & N &  \\\\\n",
      " & \\# Sparse base tables ($e < 0.05$) & $q$ & $|\\{S_k \\in S| e_{S_k} < 0.05\\}|$ & N & From \\cite{MorpheusFI} \\\\\n",
      "\n",
      "\\multirow[t]{4}{*}{Data \\& Model} & Complexity  & $M_{FLOP}$, $F_{FLOP}$ &  & N & For each operator \\\\\n",
      " & Complexity ratio &  & $\\frac{FLOP_M}{FLOP_F}$ & N &  \\\\\n",
      " & Memory bytes sum & $\\text{bytes}_M$, $\\text{bytes}F$ &  & N & For each operator \\\\\n",
      " & Memory ratio &  & $\\frac{\\text{bytes}_M}{\\text{bytes}_F}$ & N & For each operator \\\\\n",
      "\n",
      "\\multirow[t]{9}{*}{Hardware} & Arithmetic intensity &  &  & N &  \\\\\n",
      " & Compute type &  &  & C & CPU, GPU \\\\\n",
      " & FLOPs &  &  & N &  \\\\\n",
      " & GPU memory bandwidth &  &  & N &  \\\\\n",
      " & GPU processing power (double precision) &  &  & N &  \\\\\n",
      " & Math cost & $T_{math}$ &  & N &  \\\\\n",
      " & Memory cost & $T_{mem}$ &  & N &  \\\\\n",
      " & Total bytes &  &  & N &  \\\\\n",
      " & \\# Cores &  &  & N &  \\\\\n",
      "\n",
      "\\multirow[t]{4}{*}{Model} & Operator &  &  & C &  \\\\\n",
      " & Rank & $r$ &  & N & GNMF \\\\\n",
      " & \\# Clusters & $k$ &  & N & KMEans \\\\\n",
      " & \\# Iterations & $iter$ &  & N &  \\\\\n",
      "\n",
      "\\multirow[t]{3}{*}{\\textbf{Dependent}} & Execution Time & $\\text{Time}_M$, $\\text{Time}_F$ &  & N &  \\\\\n",
      " & Performance ratio &  & $\\frac{\\text{Time}_M}{\\text{Time}_F}$ & N &  \\\\\n",
      " & Time saved &  & $\\text{Time}_M - \\text{Time}_F$ & N &  \\\\\n",
      "\n",
      "\\bottomrule\n",
      "\\end{tabular}\n",
      "\n"
     ]
    }
   ],
   "source": [
    "df = pd.read_csv(\"tables/feature-engineering/table.tsv\", sep=\"\\t\").sort_values(\"Dimension\")\n",
    "\n",
    "# Convert 'Dimension' column to categorical with specific order\n",
    "df['Dimension'] = pd.Categorical(df['Dimension'], categories=['Data', 'Data \\\\& Model','Hardware', 'Model', 'Dependent'], ordered=True)\n",
    "\n",
    "def col_to_math(col):\n",
    "    return col.apply(lambda x: f\"${x}$\")\n",
    "df['Type'] = df['Type'].fillna(\"N\")\n",
    "df['Symbol'] = col_to_math(df['Symbol'])\n",
    "df['Formula'] = col_to_math(df['Formula'])\n",
    "\n",
    "def to_latex(df, column_format=None):\n",
    "    if column_format is None:\n",
    "        column_format = \"lp{0.35\\linewidth}p{0.10\\linewidth}>{\\\\footnotesize}p{0.2\\linewidth}p{0.08\\linewidth}p{0.15\\linewidth}\"\n",
    "    tab = df.sort_values([\"Dimension\", \"Feature\"]).set_index(list(df.columns)).to_latex(\n",
    "        index=True, escape=False, column_format=column_format, na_rep=\"\"\n",
    "    )\n",
    "    tab = (\n",
    "        tab.replace(\"$$nan$$\", \"\")\n",
    "        .replace(\"$nan$\", \"\")\n",
    "        .replace(\"\\midrule\", \"\\midrule\\midrule\")\n",
    "        .replace(\"\\cline{1-6} \\cline{2-6} \\cline{3-6} \\cline{4-6} \\cline{5-6}\", \"\")\n",
    "        .replace(\"\\cline{2-6} \\cline{3-6} \\cline{4-6} \\cline{5-6}\\n\", \"\")\n",
    "        .replace(\"\\cline{2-4} \\cline{3-4}\", \"\")\n",
    "        .replace(\"\\cline{1-4} \\cline{2-4} \\cline{3-4}\", \"\")\n",
    "        .replace(\"Dependent\", \"\\\\textbf{Dependent}\")\n",
    "        .replace(\"\\cline{1-4}\", \"\")\n",
    "    )\n",
    "    return tab\n",
    "\n",
    "save_table(to_latex(df), \"chapters/05_cost_estimation/auto-generated/feature-table.tex\")"
   ]
  },
  {
   "cell_type": "code",
   "execution_count": 28,
   "metadata": {},
   "outputs": [
    {
     "name": "stdout",
     "output_type": "stream",
     "text": [
      "\\begin{tabular}{llll}\n",
      "\\toprule\n",
      "Dimension & Feature & Symbol & Formula \\\\\n",
      "\\midrule\\midrule\n",
      "\\multirow[t]{5}{*}{Data} & Dataset size (rows, columns) & $r_T, c_T$ &  \\\\\n",
      "\n",
      " & Sparsity & $e_T$ & $\\frac{nnz(T)}{r_T\\times c_T}$ \\\\\n",
      "\n",
      " & Sparsity ratio &  & $\\frac{e_T}{e_S}$ \\\\\n",
      "\n",
      " & Tuple ratio & $\\tau$ & $\\frac{\\sum_{k=1}^p d_k}{d_S}$ \\\\\n",
      "\n",
      " & \\# Base tables & $n$ &  \\\\\n",
      " \n",
      "\\multirow[t]{2}{*}{Data \\& Model} & Complexity ratio &  & $\\frac{FLOP_M}{FLOP_F}$ \\\\\n",
      "\n",
      " & Memory ratio &  & $\\frac{\\text{bytes}_M}{\\text{bytes}_F}$ \\\\\n",
      " \n",
      "\\multirow[t]{2}{*}{Hardware} & Compute type &  &  \\\\\n",
      "\n",
      " & GPU memory bandwidth &  &  \\\\\n",
      " \n",
      "\\multirow[t]{2}{*}{Model} & Operator &  &  \\\\\n",
      "\n",
      " & \\# Iterations & $iter$ &  \\\\\n",
      " \n",
      "\\multirow[t]{3}{*}{\\textbf{Dependent}} & Execution Time & $\\text{Time}_M$, $\\text{Time}_F$ &  \\\\\n",
      "\n",
      " & Performance ratio &  & $\\frac{\\text{Time}_M}{\\text{Time}_F}$ \\\\\n",
      "\n",
      " & Time saved &  & $\\text{Time}_M - \\text{Time}_F$ \\\\\n",
      " \n",
      "\\bottomrule\n",
      "\\end{tabular}\n",
      "\n"
     ]
    }
   ],
   "source": [
    "to_keep = ['\\\\# Base tables', 'Sparsity ratio',\n",
    "       'Tuple ratio', 'Dataset size (rows, columns)',\n",
    "       'Sparsity','Complexity ratio', 'Memory ratio',\n",
    "       'Execution Time', 'Performance ratio', 'Time saved',\n",
    "       'Compute type', 'GPU memory bandwidth', 'GPU processing power',\n",
    "        '\\\\# Iterations', 'Operator']\n",
    "subset_df = df.drop(columns=[\"Type\", \"Notes\"]).drop(df[~df.Feature.isin(to_keep)].index)\n",
    "\n",
    "col_format = \"llll\"\n",
    "save_table(to_latex(subset_df, column_format=col_format), \"chapters/05_cost_estimation/auto-generated/feature-table-subset.tex\")"
   ]
  }
 ],
 "metadata": {
  "kernelspec": {
   "display_name": ".venv",
   "language": "python",
   "name": "python3"
  },
  "language_info": {
   "codemirror_mode": {
    "name": "ipython",
    "version": 3
   },
   "file_extension": ".py",
   "mimetype": "text/x-python",
   "name": "python",
   "nbconvert_exporter": "python",
   "pygments_lexer": "ipython3",
   "version": "3.10.12"
  }
 },
 "nbformat": 4,
 "nbformat_minor": 2
}
