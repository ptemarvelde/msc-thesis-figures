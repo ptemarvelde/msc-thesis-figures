{
 "cells": [
  {
   "cell_type": "code",
   "execution_count": 84,
   "metadata": {},
   "outputs": [],
   "source": [
    "from figure_utils import save_table\n",
    "import pandas as pd\n",
    "# https://docs.google.com/spreadsheets/d/1irZHhFP2NfIXyPqcMDqKStY_DY6nldomHGwXuCSBl20/edit#gid=1226257673"
   ]
  },
  {
   "cell_type": "code",
   "execution_count": 86,
   "metadata": {},
   "outputs": [
    {
     "name": "stdout",
     "output_type": "stream",
     "text": [
      "\\begin{tabular}{lp{0.23\\linewidth}p{0.10\\linewidth}>{\\footnotesize}p{0.15\\linewidth}p{0.08\\linewidth}l}\n",
      "\\toprule\n",
      "Dimension & Feature & Symbol & Formula & Type & Notes \\\\\n",
      "\\midrule\\midrule\n",
      "\\multirow[t]{12}{*}{Data} & Complexity  & $O_M$, $O_F$ &  & N &  \\\\\n",
      " & Complexity ratio &  & $\\frac{O_M}{ O_F}$ & N &  \\\\\n",
      " & Dataset size (rows, columns) & $r_T, c_T$ &  & N &  \\\\\n",
      " & Feature ratio & $\\rho$ & $\\frac{n_S}{\\sum_{k=1}^p n_k} $ & N &  \\\\\n",
      " & Join type & $j_t$ &  & C &  \\\\\n",
      " & Selectivity & $\\sigma$ & $\\frac{\\sum_{k=1}^{n}r_{S_k}}{r_T}$ & N &  \\\\\n",
      " & Sparsity & $e_T$ & $\\frac{nnz(T)}{r_T\\times c_T}$ & N &  \\\\\n",
      " & Sparsity ratio &  & $\\frac{e_T}{e_S}$ & N &  \\\\\n",
      " & Tuple ratio & $\\tau$ & $\\frac{\\sum_{k=1}^p d_k}{d_S}$ & N &  \\\\\n",
      " & \\# Base tables & $n$ &  & N &  \\\\\n",
      " & \\# Non-zero values & $nnz(T)$ & $nnz(S) = \\sum_{k=1}^{n}nnz(S_k)$ & N &  \\\\\n",
      " & \\# Sparse base tables ($e < 0.05$) & $q$ & $|\\{S_k \\in S| e_{S_k} < 0.05\\}|$ & N & From \\cite{MorpheusFI} \\\\\n",
      "\n",
      "\\multirow[t]{9}{*}{Hardware} & Arithmetic intensity &  &  & N &  \\\\\n",
      " & Compute type &  &  & C & CPU, GPU \\\\\n",
      " & FLOPs &  &  & N &  \\\\\n",
      " & GPU memory bandwidth &  &  & N &  \\\\\n",
      " & GPU processing power (double precision) &  &  & N &  \\\\\n",
      " & Math cost & $T_{math}$ &  & N &  \\\\\n",
      " & Memory cost & $T_{mem}$ &  & N &  \\\\\n",
      " & Total bytes &  &  & N &  \\\\\n",
      " & \\# Cores &  &  & N &  \\\\\n",
      "\n",
      "\\multirow[t]{4}{*}{Model} & Operator &  &  & C &  \\\\\n",
      " & Rank & $r$ &  & N & GNMF \\\\\n",
      " & \\# Clusters & $k$ &  & N & KMEans \\\\\n",
      " & \\# Iterations & $iter$ &  & N &  \\\\\n",
      "\n",
      "\\bottomrule\n",
      "\\end{tabular}\n",
      "\n"
     ]
    }
   ],
   "source": [
    "df = pd.read_csv(\"tables/feature-engineering/table.tsv\", sep=\"\\t\").sort_values(\"Dimension\")\n",
    "\n",
    "def col_to_math(col):\n",
    "    return col.apply(lambda x: f\"${x}$\")\n",
    "df['Type'] = df['Type'].fillna(\"N\")\n",
    "df['Symbol'] = col_to_math(df['Symbol'])\n",
    "df['Formula'] = col_to_math(df['Formula'])\n",
    "\n",
    "tab = df.sort_values([\"Dimension\", \"Feature\"]).set_index(list(df.columns)).to_latex(\n",
    "    index=True, escape=False, column_format=\"lp{0.23\\linewidth}p{0.10\\linewidth}>{\\\\footnotesize}p{0.15\\linewidth}p{0.08\\linewidth}l\", na_rep=\"\"\n",
    ")\n",
    "tab = (\n",
    "    tab.replace(\"$$nan$$\", \"\")\n",
    "    .replace(\"$nan$\", \"\")\n",
    "    .replace(\"\\midrule\", \"\\midrule\\midrule\")\n",
    "    .replace(\"\\cline{1-6} \\cline{2-6} \\cline{3-6} \\cline{4-6} \\cline{5-6}\", \"\")\n",
    "    .replace(\"\\cline{2-6} \\cline{3-6} \\cline{4-6} \\cline{5-6}\\n\", \"\")\n",
    ")\n",
    "save_table(tab, \"chapters/05_cost_estimation/auto-generated/feature-table.tex\")"
   ]
  }
 ],
 "metadata": {
  "kernelspec": {
   "display_name": ".venv",
   "language": "python",
   "name": "python3"
  },
  "language_info": {
   "codemirror_mode": {
    "name": "ipython",
    "version": 3
   },
   "file_extension": ".py",
   "mimetype": "text/x-python",
   "name": "python",
   "nbconvert_exporter": "python",
   "pygments_lexer": "ipython3",
   "version": "3.10.12"
  }
 },
 "nbformat": 4,
 "nbformat_minor": 2
}
