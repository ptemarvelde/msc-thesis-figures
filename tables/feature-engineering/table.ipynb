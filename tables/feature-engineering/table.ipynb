{
 "cells": [
  {
   "cell_type": "code",
   "execution_count": 70,
   "metadata": {},
   "outputs": [],
   "source": [
    "from figure_utils import save_table\n",
    "import pandas as pd\n",
    "# https://docs.google.com/spreadsheets/d/1irZHhFP2NfIXyPqcMDqKStY_DY6nldomHGwXuCSBl20/edit#gid=1226257673\n",
    "df = pd.read_csv(\"tables/feature-engineering/table.tsv\", sep=\"\\t\").sort_values(\"Dimension\")"
   ]
  },
  {
   "cell_type": "code",
   "execution_count": 71,
   "metadata": {},
   "outputs": [],
   "source": [
    "def col_to_math(col):\n",
    "    return col.apply(lambda x: f\"${x}$\")\n",
    "df['Type'] = df['Type'].fillna(\"Number\")\n",
    "df['Symbol'] = col_to_math(df['Symbol'])\n",
    "df['Formula'] = col_to_math(df['Formula'])\n",
    "# df['Formula'] = col_to_math(df['Formula'])"
   ]
  },
  {
   "cell_type": "code",
   "execution_count": 73,
   "metadata": {},
   "outputs": [
    {
     "name": "stdout",
     "output_type": "stream",
     "text": [
      "\\begin{tabular}{lp{0.23\\linewidth}p{0.12\\linewidth}lll}\n",
      "\\toprule\n",
      "Dimension & Feature & Symbol & Formula & Type & Notes \\\\\n",
      "\\midrule\\midrule\n",
      "Data & Selectivity & $\\sigma$ & $\\frac{\\sum_{k=1}^{n}r_{S_k}}{r_T}$ & Number &  \\\\\n",
      "Data & Join type & $j_t$ &  & Cat. &  \\\\\n",
      "Data & Complexity  & $O_{factorized}$, $O_{materialized}$ &  & Number &  \\\\\n",
      "Data & Complexity ratio &  & $\\frac{O_{materialized}}{ O_{factorized}}$ & Number &  \\\\\n",
      "Data & Tuple ratio & $\\tau$ & $frac{\\sum_{k=1}^p d_k}{d_S}$ & Number &  \\\\\n",
      "Data & Feature ratio & $\\rho$ & $\\frac{n_S}{\\sum_{k=1}^p n_k} $ & Number &  \\\\\n",
      "Data & Dataset dimensions (rows, columns) & $r_T, c_T$ &  & Number &  \\\\\n",
      "Data & Number of non-zero values & $nnz(T)$ & $nnz(S) = \\sum_{k=1}^{n}nnz(S_k)$ & Number &  \\\\\n",
      "Data & Sparsity & $e_T$ & $\\frac{nnz(T)}{r_T\\times c_T}$ & Number &  \\\\\n",
      "Data & Number of base tables & $n$ &  & Number &  \\\\\n",
      "Data & Number of base tables with $e\\le 0.05$ &  & $|{S_k\\in S|e_{S_k} <0.04}|$ & Number & From \\cite{MorpheusFI} \\\\\n",
      "Hardware & Number of cores &  &  & Number &  \\\\\n",
      "Hardware & Compute type &  &  & Cat. &  \\\\\n",
      "Model & Operator &  &  & Cat. &  \\\\\n",
      "\\bottomrule\n",
      "\\end{tabular}\n",
      "\n"
     ]
    }
   ],
   "source": [
    "tab = df.to_latex(index=False, escape=False, column_format=\"lp{0.23\\linewidth}p{0.12\\linewidth}lll\", na_rep=\"\")\n",
    "tab = tab.replace(\"$$nan$$\", \"\").replace(\"$nan$\", \"\").replace(\"\\midrule\", \"\\midrule\\midrule\")\n",
    "save_table(tab, \"chapters/05_cost_estimation/auto-generated/feature-table.tex\")"
   ]
  }
 ],
 "metadata": {
  "kernelspec": {
   "display_name": ".venv",
   "language": "python",
   "name": "python3"
  },
  "language_info": {
   "codemirror_mode": {
    "name": "ipython",
    "version": 3
   },
   "file_extension": ".py",
   "mimetype": "text/x-python",
   "name": "python",
   "nbconvert_exporter": "python",
   "pygments_lexer": "ipython3",
   "version": "3.10.12"
  }
 },
 "nbformat": 4,
 "nbformat_minor": 2
}
